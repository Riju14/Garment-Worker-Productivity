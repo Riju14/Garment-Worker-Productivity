{
 "cells": [
  {
   "cell_type": "code",
   "execution_count": 1,
   "id": "c32b4617-b075-4fbb-9b1f-efe685f6ee93",
   "metadata": {
    "tags": []
   },
   "outputs": [],
   "source": [
    "import pandas as pd\n",
    "import seaborn as sns\n",
    "\n",
    "import math\n",
    "import numpy as np\n",
    "import pandas as pd\n",
    "import seaborn as sns\n",
    "\n",
    "from sklearn.model_selection import train_test_split, GridSearchCV\n",
    "from sklearn.impute import SimpleImputer\n",
    "from sklearn.preprocessing import OneHotEncoder, RobustScaler\n",
    "from sklearn.feature_selection import VarianceThreshold\n",
    "from sklearn.metrics import balanced_accuracy_score, roc_auc_score, roc_curve, plot_roc_curve, plot_confusion_matrix, classification_report\n",
    "from sklearn.linear_model import LogisticRegression\n",
    "from sklearn.svm import SVC\n",
    "\n",
    "from sklearn.tree import DecisionTreeClassifier\n",
    "from sklearn.ensemble import RandomForestClassifier, AdaBoostClassifier\n",
    "\n",
    "import statsmodels.api as sm\n",
    "import statsmodels.formula.api as smf\n",
    "\n",
    "import seaborn as sns\n",
    "\n",
    "import matplotlib.pyplot as plt\n",
    "\n",
    "import pandas as pd\n",
    "import numpy as np\n",
    "import math\n",
    "\n",
    "from matplotlib import pyplot\n",
    "from matplotlib.colors import LinearSegmentedColormap\n",
    "import matplotlib.cm as cm\n",
    "\n",
    "from sklearn.model_selection import train_test_split, GridSearchCV, StratifiedKFold\n",
    "from sklearn.feature_selection import VarianceThreshold\n",
    "from sklearn.preprocessing import OneHotEncoder\n",
    "from sklearn.impute import SimpleImputer\n",
    "from sklearn.tree import DecisionTreeClassifier\n",
    "from sklearn.ensemble import RandomForestClassifier, AdaBoostClassifier\n",
    "from sklearn.svm import SVC\n",
    "from sklearn.metrics import balanced_accuracy_score, roc_auc_score, roc_curve, plot_roc_curve, confusion_matrix, plot_confusion_matrix, classification_report, recall_score, f1_score, accuracy_score\n",
    "from sklearn import tree\n",
    "from sklearn.linear_model import LinearRegression\n",
    "\n",
    "from IPython.display import Image\n",
    "from sklearn.ensemble import BaggingClassifier\n",
    "\n",
    "\n"
   ]
  },
  {
   "cell_type": "code",
   "execution_count": 2,
   "id": "f54724b3-18c2-42d6-96e0-6877c913eec0",
   "metadata": {},
   "outputs": [],
   "source": [
    "#!pip install xgboost\n",
    "import xgboost as xgb\n",
    "from xgboost import XGBClassifier\n",
    "from scipy.spatial.distance import cosine\n"
   ]
  },
  {
   "cell_type": "code",
   "execution_count": 3,
   "id": "3cb1d2c6-52e7-45b2-ab31-e955b17815b4",
   "metadata": {},
   "outputs": [],
   "source": [
    "#! pip install statsmodels"
   ]
  },
  {
   "cell_type": "code",
   "execution_count": 4,
   "id": "9ca162ac-1710-47cd-bf04-1689962cdfd5",
   "metadata": {},
   "outputs": [],
   "source": [
    "dat = pd.read_csv('C:/Users/dwaip/Desktop/Mendoza Yr 2/Sem 3/Python/Final Project/garments_worker_productivity_v4.csv', encoding = 'UTF-8')"
   ]
  },
  {
   "cell_type": "code",
   "execution_count": 5,
   "id": "e24fa700-25c9-475a-92c6-4d9e9a0b307c",
   "metadata": {
    "tags": []
   },
   "outputs": [],
   "source": [
    "dat = pd.DataFrame(dat)\n"
   ]
  },
  {
   "cell_type": "code",
   "execution_count": 6,
   "id": "20861dcd-3914-43ca-a69b-0355ceca63d9",
   "metadata": {},
   "outputs": [
    {
     "data": {
      "text/html": [
       "<div>\n",
       "<style scoped>\n",
       "    .dataframe tbody tr th:only-of-type {\n",
       "        vertical-align: middle;\n",
       "    }\n",
       "\n",
       "    .dataframe tbody tr th {\n",
       "        vertical-align: top;\n",
       "    }\n",
       "\n",
       "    .dataframe thead th {\n",
       "        text-align: right;\n",
       "    }\n",
       "</style>\n",
       "<table border=\"1\" class=\"dataframe\">\n",
       "  <thead>\n",
       "    <tr style=\"text-align: right;\">\n",
       "      <th></th>\n",
       "      <th>date</th>\n",
       "      <th>quarter</th>\n",
       "      <th>department</th>\n",
       "      <th>day</th>\n",
       "      <th>team</th>\n",
       "      <th>targeted_productivity</th>\n",
       "      <th>smv</th>\n",
       "      <th>wip</th>\n",
       "      <th>over_time</th>\n",
       "      <th>incentive</th>\n",
       "      <th>idle_time</th>\n",
       "      <th>idle_men</th>\n",
       "      <th>no_of_style_change</th>\n",
       "      <th>no_of_workers</th>\n",
       "      <th>actual_productivity</th>\n",
       "      <th>Target</th>\n",
       "    </tr>\n",
       "  </thead>\n",
       "  <tbody>\n",
       "    <tr>\n",
       "      <th>0</th>\n",
       "      <td>1/1/2015</td>\n",
       "      <td>Quarter1</td>\n",
       "      <td>sweing</td>\n",
       "      <td>Thursday</td>\n",
       "      <td>8</td>\n",
       "      <td>0.80</td>\n",
       "      <td>26.16</td>\n",
       "      <td>1108.0</td>\n",
       "      <td>7080</td>\n",
       "      <td>98</td>\n",
       "      <td>0.0</td>\n",
       "      <td>0</td>\n",
       "      <td>0</td>\n",
       "      <td>59.0</td>\n",
       "      <td>0.940725</td>\n",
       "      <td>yes</td>\n",
       "    </tr>\n",
       "    <tr>\n",
       "      <th>1</th>\n",
       "      <td>1/1/2015</td>\n",
       "      <td>Quarter1</td>\n",
       "      <td>finishing</td>\n",
       "      <td>Thursday</td>\n",
       "      <td>1</td>\n",
       "      <td>0.75</td>\n",
       "      <td>3.94</td>\n",
       "      <td>NaN</td>\n",
       "      <td>960</td>\n",
       "      <td>0</td>\n",
       "      <td>0.0</td>\n",
       "      <td>0</td>\n",
       "      <td>0</td>\n",
       "      <td>8.0</td>\n",
       "      <td>0.886500</td>\n",
       "      <td>yes</td>\n",
       "    </tr>\n",
       "    <tr>\n",
       "      <th>2</th>\n",
       "      <td>1/1/2015</td>\n",
       "      <td>Quarter1</td>\n",
       "      <td>sweing</td>\n",
       "      <td>Thursday</td>\n",
       "      <td>11</td>\n",
       "      <td>0.80</td>\n",
       "      <td>11.41</td>\n",
       "      <td>968.0</td>\n",
       "      <td>3660</td>\n",
       "      <td>50</td>\n",
       "      <td>0.0</td>\n",
       "      <td>0</td>\n",
       "      <td>0</td>\n",
       "      <td>30.5</td>\n",
       "      <td>0.800570</td>\n",
       "      <td>yes</td>\n",
       "    </tr>\n",
       "    <tr>\n",
       "      <th>3</th>\n",
       "      <td>1/1/2015</td>\n",
       "      <td>Quarter1</td>\n",
       "      <td>sweing</td>\n",
       "      <td>Thursday</td>\n",
       "      <td>12</td>\n",
       "      <td>0.80</td>\n",
       "      <td>11.41</td>\n",
       "      <td>968.0</td>\n",
       "      <td>3660</td>\n",
       "      <td>50</td>\n",
       "      <td>0.0</td>\n",
       "      <td>0</td>\n",
       "      <td>0</td>\n",
       "      <td>30.5</td>\n",
       "      <td>0.800570</td>\n",
       "      <td>yes</td>\n",
       "    </tr>\n",
       "    <tr>\n",
       "      <th>4</th>\n",
       "      <td>1/1/2015</td>\n",
       "      <td>Quarter1</td>\n",
       "      <td>sweing</td>\n",
       "      <td>Thursday</td>\n",
       "      <td>6</td>\n",
       "      <td>0.80</td>\n",
       "      <td>25.90</td>\n",
       "      <td>1170.0</td>\n",
       "      <td>1920</td>\n",
       "      <td>50</td>\n",
       "      <td>0.0</td>\n",
       "      <td>0</td>\n",
       "      <td>0</td>\n",
       "      <td>56.0</td>\n",
       "      <td>0.800382</td>\n",
       "      <td>yes</td>\n",
       "    </tr>\n",
       "  </tbody>\n",
       "</table>\n",
       "</div>"
      ],
      "text/plain": [
       "       date   quarter department       day  team  targeted_productivity  \\\n",
       "0  1/1/2015  Quarter1     sweing  Thursday     8                   0.80   \n",
       "1  1/1/2015  Quarter1  finishing  Thursday     1                   0.75   \n",
       "2  1/1/2015  Quarter1     sweing  Thursday    11                   0.80   \n",
       "3  1/1/2015  Quarter1     sweing  Thursday    12                   0.80   \n",
       "4  1/1/2015  Quarter1     sweing  Thursday     6                   0.80   \n",
       "\n",
       "     smv     wip  over_time  incentive  idle_time  idle_men  \\\n",
       "0  26.16  1108.0       7080         98        0.0         0   \n",
       "1   3.94     NaN        960          0        0.0         0   \n",
       "2  11.41   968.0       3660         50        0.0         0   \n",
       "3  11.41   968.0       3660         50        0.0         0   \n",
       "4  25.90  1170.0       1920         50        0.0         0   \n",
       "\n",
       "   no_of_style_change  no_of_workers  actual_productivity Target  \n",
       "0                   0           59.0             0.940725    yes  \n",
       "1                   0            8.0             0.886500    yes  \n",
       "2                   0           30.5             0.800570    yes  \n",
       "3                   0           30.5             0.800570    yes  \n",
       "4                   0           56.0             0.800382    yes  "
      ]
     },
     "execution_count": 6,
     "metadata": {},
     "output_type": "execute_result"
    }
   ],
   "source": [
    "dat.head()"
   ]
  },
  {
   "cell_type": "code",
   "execution_count": 7,
   "id": "6745c477-7776-43d3-a77d-ff88eef35a13",
   "metadata": {},
   "outputs": [
    {
     "data": {
      "text/plain": [
       "date                     False\n",
       "quarter                  False\n",
       "department               False\n",
       "day                      False\n",
       "team                     False\n",
       "targeted_productivity    False\n",
       "smv                      False\n",
       "wip                       True\n",
       "over_time                False\n",
       "incentive                False\n",
       "idle_time                False\n",
       "idle_men                 False\n",
       "no_of_style_change       False\n",
       "no_of_workers            False\n",
       "actual_productivity      False\n",
       "Target                   False\n",
       "dtype: bool"
      ]
     },
     "execution_count": 7,
     "metadata": {},
     "output_type": "execute_result"
    }
   ],
   "source": [
    "dat.isna().any()"
   ]
  },
  {
   "cell_type": "code",
   "execution_count": 8,
   "id": "5bbe7823-bdf7-4219-a206-528f55ef6ebe",
   "metadata": {},
   "outputs": [
    {
     "data": {
      "text/plain": [
       "date                      object\n",
       "quarter                   object\n",
       "department                object\n",
       "day                       object\n",
       "team                       int64\n",
       "targeted_productivity    float64\n",
       "smv                      float64\n",
       "wip                      float64\n",
       "over_time                  int64\n",
       "incentive                  int64\n",
       "idle_time                float64\n",
       "idle_men                   int64\n",
       "no_of_style_change         int64\n",
       "no_of_workers            float64\n",
       "actual_productivity      float64\n",
       "Target                    object\n",
       "dtype: object"
      ]
     },
     "execution_count": 8,
     "metadata": {},
     "output_type": "execute_result"
    }
   ],
   "source": [
    "    dat[\"wip\"]=dat[\"wip\"].fillna(0)\n",
    "dat.dtypes"
   ]
  },
  {
   "cell_type": "code",
   "execution_count": 10,
   "id": "0d421ad0-5de2-4712-80da-548fc78443c9",
   "metadata": {},
   "outputs": [
    {
     "data": {
      "text/plain": [
       "0.423"
      ]
     },
     "execution_count": 10,
     "metadata": {},
     "output_type": "execute_result"
    }
   ],
   "source": [
    "round(1 - len(dat.dropna())/len(dat), 3)"
   ]
  },
  {
   "cell_type": "code",
   "execution_count": 9,
   "id": "d8de7afc-b169-402b-81cd-4157d1928983",
   "metadata": {},
   "outputs": [],
   "source": [
    "dat.astype({'date': 'datetime64[ns]'})\n",
    "dat.astype({'targeted_productivity': 'int64'})\n",
    "dat.astype({'targeted_productivity': 'int64'})\n",
    "dat[\"team\"] = dat[\"team\"].astype('object')\n",
    "\n",
    "#dat['month_year'] = pd.to_datetime(dat['date']).dt.to_period('M')"
   ]
  },
  {
   "cell_type": "code",
   "execution_count": 10,
   "id": "57fe328c-d245-45d8-bb3c-5463714ae600",
   "metadata": {},
   "outputs": [
    {
     "data": {
      "text/plain": [
       "date                      object\n",
       "quarter                   object\n",
       "department                object\n",
       "day                       object\n",
       "team                      object\n",
       "targeted_productivity    float64\n",
       "smv                      float64\n",
       "wip                      float64\n",
       "over_time                  int64\n",
       "incentive                  int64\n",
       "idle_time                float64\n",
       "idle_men                   int64\n",
       "no_of_style_change         int64\n",
       "no_of_workers            float64\n",
       "actual_productivity      float64\n",
       "Target                    object\n",
       "dtype: object"
      ]
     },
     "execution_count": 10,
     "metadata": {},
     "output_type": "execute_result"
    }
   ],
   "source": [
    "dat.dtypes"
   ]
  },
  {
   "cell_type": "code",
   "execution_count": 11,
   "id": "abd907ad-7345-41d0-ac3b-1c5e1308e954",
   "metadata": {},
   "outputs": [
    {
     "data": {
      "text/plain": [
       "<AxesSubplot:xlabel='incentive', ylabel='actual_productivity'>"
      ]
     },
     "execution_count": 11,
     "metadata": {},
     "output_type": "execute_result"
    },
    {
     "data": {
      "image/png": "[encoded data removed]",
      "text/plain": [
       "<Figure size 432x288 with 1 Axes>"
      ]
     },
     "metadata": {},
     "output_type": "display_data"
    }
   ],
   "source": [
    "sns.set()\n",
    "sns.scatterplot(x=\"incentive\", y=\"actual_productivity\", data=dat)"
   ]
  },
  {
   "cell_type": "code",
   "execution_count": 12,
   "id": "b49959c9-07dd-4349-8ff6-9e9e2b3ae01e",
   "metadata": {
    "tags": []
   },
   "outputs": [
    {
     "data": {
      "text/plain": [
       "<AxesSubplot:xlabel='over_time', ylabel='actual_productivity'>"
      ]
     },
     "execution_count": 12,
     "metadata": {},
     "output_type": "execute_result"
    },
    {
     "data": {
      "image/png": "[encoded data removed]",
      "text/plain": [
       "<Figure size 1152x720 with 1 Axes>"
      ]
     },
     "metadata": {},
     "output_type": "display_data"
    }
   ],
   "source": [
    "sns.set()\n",
    "plt.figure(figsize = (16,10))\n",
    "sns.scatterplot(x=\"over_time\", y=\"actual_productivity\", hue=\"department\", data=dat)"
   ]
  },
  {
   "cell_type": "code",
   "execution_count": 13,
   "id": "429f30fc-52e9-4566-a6fc-7be569ba066e",
   "metadata": {},
   "outputs": [
    {
     "ename": "NameError",
     "evalue": "name 'rcParams' is not defined",
     "output_type": "error",
     "traceback": [
      "\u001b[1;31m---------------------------------------------------------------------------\u001b[0m",
      "\u001b[1;31mNameError\u001b[0m                                 Traceback (most recent call last)",
      "\u001b[1;32m~\\AppData\\Local\\Temp/ipykernel_17920/2890290520.py\u001b[0m in \u001b[0;36m<module>\u001b[1;34m\u001b[0m\n\u001b[1;32m----> 1\u001b[1;33m \u001b[0mrcParams\u001b[0m\u001b[1;33m[\u001b[0m\u001b[1;34m'figure.figsize'\u001b[0m\u001b[1;33m]\u001b[0m \u001b[1;33m=\u001b[0m \u001b[1;36m15\u001b[0m\u001b[1;33m,\u001b[0m\u001b[1;36m8\u001b[0m\u001b[1;33m\u001b[0m\u001b[1;33m\u001b[0m\u001b[0m\n\u001b[0m\u001b[0;32m      2\u001b[0m \u001b[0msns\u001b[0m\u001b[1;33m.\u001b[0m\u001b[0mset\u001b[0m\u001b[1;33m(\u001b[0m\u001b[1;33m)\u001b[0m\u001b[1;33m\u001b[0m\u001b[1;33m\u001b[0m\u001b[0m\n\u001b[0;32m      3\u001b[0m \u001b[1;31m#plt.figure(figsize = (16,10))\u001b[0m\u001b[1;33m\u001b[0m\u001b[1;33m\u001b[0m\u001b[1;33m\u001b[0m\u001b[0m\n\u001b[0;32m      4\u001b[0m \u001b[0msns\u001b[0m\u001b[1;33m.\u001b[0m\u001b[0mlineplot\u001b[0m\u001b[1;33m(\u001b[0m\u001b[0mx\u001b[0m\u001b[1;33m=\u001b[0m\u001b[1;34m\"quarter\"\u001b[0m\u001b[1;33m,\u001b[0m \u001b[0my\u001b[0m\u001b[1;33m=\u001b[0m\u001b[1;34m\"over_time\"\u001b[0m\u001b[1;33m,\u001b[0m\u001b[0mhue\u001b[0m\u001b[1;33m=\u001b[0m\u001b[1;34m\"department\"\u001b[0m\u001b[1;33m,\u001b[0m  \u001b[0mdata\u001b[0m\u001b[1;33m=\u001b[0m\u001b[0mdat\u001b[0m\u001b[1;33m)\u001b[0m\u001b[1;33m\u001b[0m\u001b[1;33m\u001b[0m\u001b[0m\n",
      "\u001b[1;31mNameError\u001b[0m: name 'rcParams' is not defined"
     ]
    }
   ],
   "source": [
    "rcParams['figure.figsize'] = 15,8\n",
    "sns.set()\n",
    "#plt.figure(figsize = (16,10))\n",
    "sns.lineplot(x=\"quarter\", y=\"over_time\",hue=\"department\",  data=dat)"
   ]
  },
  {
   "cell_type": "code",
   "execution_count": null,
   "id": "3a25efde-f3ab-432a-bbf7-ce91853e8cdd",
   "metadata": {},
   "outputs": [],
   "source": [
    "rcParams['figure.figsize'] = 15,8\n",
    "sns.set()\n",
    "#plt.figure(figsize = (16,10))\n",
    "sns.lineplot(x=\"quarter\", y=\"actual_productivity\", hue=\"department\", data=dat)"
   ]
  },
  {
   "cell_type": "code",
   "execution_count": null,
   "id": "4a938241-4ccb-44ba-a0da-5005495ad365",
   "metadata": {},
   "outputs": [],
   "source": [
    "sns.scatterplot(x=\"no_of_workers\", y=\"actual_productivity\", hue=\"department\", data=dat)"
   ]
  },
  {
   "cell_type": "code",
   "execution_count": null,
   "id": "bf922c5a-1647-43bd-85ce-65736e184190",
   "metadata": {},
   "outputs": [],
   "source": [
    "rcParams['figure.figsize'] = 15,8\n",
    "sns.set()\n",
    "#plt.figure(figsize = (16,10))\n",
    "sns.lineplot(x=\"day\", y=\"actual_productivity\", hue=\"department\", data=dat)"
   ]
  },
  {
   "cell_type": "code",
   "execution_count": 14,
   "id": "2a7a695a-14e3-47d8-af32-fe4d88fc6279",
   "metadata": {},
   "outputs": [
    {
     "data": {
      "text/plain": [
       "<AxesSubplot:xlabel='idle_men', ylabel='actual_productivity'>"
      ]
     },
     "execution_count": 14,
     "metadata": {},
     "output_type": "execute_result"
    },
    {
     "data": {
      "image/png": "[encoded data removed]",
      "text/plain": [
       "<Figure size 432x288 with 1 Axes>"
      ]
     },
     "metadata": {},
     "output_type": "display_data"
    }
   ],
   "source": [
    "sns.scatterplot(x=\"idle_men\", y=\"actual_productivity\", hue=\"department\", data=dat)"
   ]
  },
  {
   "cell_type": "code",
   "execution_count": 15,
   "id": "57d5486f-e9e2-4e72-8715-d81249186ee0",
   "metadata": {},
   "outputs": [
    {
     "data": {
      "text/plain": [
       "<AxesSubplot:xlabel='no_of_style_change', ylabel='actual_productivity'>"
      ]
     },
     "execution_count": 15,
     "metadata": {},
     "output_type": "execute_result"
    },
    {
     "data": {
      "image/png": "[encoded data removed]",
      "text/plain": [
       "<Figure size 432x288 with 1 Axes>"
      ]
     },
     "metadata": {},
     "output_type": "display_data"
    }
   ],
   "source": [
    "sns.lineplot(x=\"no_of_style_change\", y=\"actual_productivity\", data=dat)"
   ]
  },
  {
   "cell_type": "code",
   "execution_count": 16,
   "id": "701abe1b-73a5-47e0-9298-afe9b05fae94",
   "metadata": {},
   "outputs": [
    {
     "data": {
      "text/plain": [
       "<AxesSubplot:xlabel='Target', ylabel='count'>"
      ]
     },
     "execution_count": 16,
     "metadata": {},
     "output_type": "execute_result"
    },
    {
     "data": {
      "image/png": "[encoded data removed]",
      "text/plain": [
       "<Figure size 432x288 with 1 Axes>"
      ]
     },
     "metadata": {},
     "output_type": "display_data"
    }
   ],
   "source": [
    "sns.countplot(x=\"Target\", data=dat)"
   ]
  },
  {
   "cell_type": "code",
   "execution_count": null,
   "id": "e5e0171e-1964-459b-a7aa-3a0691db41a7",
   "metadata": {},
   "outputs": [],
   "source": []
  },
  {
   "cell_type": "code",
   "execution_count": null,
   "id": "40a6f658-a012-4d72-9bdd-ce68e202c352",
   "metadata": {},
   "outputs": [],
   "source": []
  },
  {
   "cell_type": "code",
   "execution_count": 17,
   "id": "3c936c10-0773-435d-97ed-c94a9b47372f",
   "metadata": {},
   "outputs": [
    {
     "data": {
      "text/plain": [
       "<AxesSubplot:xlabel='quarter', ylabel='actual_productivity'>"
      ]
     },
     "execution_count": 17,
     "metadata": {},
     "output_type": "execute_result"
    },
    {
     "data": {
      "image/png": "[encoded data removed]",
      "text/plain": [
       "<Figure size 1080x576 with 1 Axes>"
      ]
     },
     "metadata": {},
     "output_type": "display_data"
    }
   ],
   "source": [
    "from matplotlib import rcParams\n",
    "rcParams['figure.figsize'] = 15,8\n",
    "sns.set()\n",
    "#plt.figure(figsize = (16,10))\n",
    "sns.lineplot(x=\"quarter\", y=\"actual_productivity\", hue=\"department\", data=dat)"
   ]
  },
  {
   "cell_type": "code",
   "execution_count": 18,
   "id": "fe6d7db5-90d7-4110-89d2-f97889a7b31a",
   "metadata": {},
   "outputs": [],
   "source": [
    "#I feel we should drop date from our model. The accuracy might go down a bit but they skew the data IMO\n",
    "#dat_model=dat.drop(['date'], 1)"
   ]
  },
  {
   "cell_type": "markdown",
   "id": "72bc27ff-f959-4701-90d3-deb2c9c75998",
   "metadata": {},
   "source": [
    "Split Data"
   ]
  },
  {
   "cell_type": "code",
   "execution_count": 19,
   "id": "c24e9e05-f721-4835-8199-ce5ce434893c",
   "metadata": {},
   "outputs": [],
   "source": [
    "dat = dat.drop(columns = 'actual_productivity')"
   ]
  },
  {
   "cell_type": "code",
   "execution_count": 20,
   "id": "02923dbb-1ce2-49bc-96bf-c7f6bca4ecdf",
   "metadata": {
    "tags": []
   },
   "outputs": [],
   "source": [
    "Train, Test = train_test_split(dat, stratify=dat.Target, test_size=.20,random_state=345)"
   ]
  },
  {
   "cell_type": "code",
   "execution_count": 21,
   "id": "6f53f6a2-2c88-4d73-8bf2-adb97c1d6d53",
   "metadata": {},
   "outputs": [
    {
     "data": {
      "text/plain": [
       "Target\n",
       "no     631\n",
       "yes    566\n",
       "dtype: int64"
      ]
     },
     "execution_count": 21,
     "metadata": {},
     "output_type": "execute_result"
    }
   ],
   "source": [
    "dat.groupby('Target').size()"
   ]
  },
  {
   "cell_type": "code",
   "execution_count": 22,
   "id": "7acd4a4f-9add-4273-bbf4-087b1a8ba0ea",
   "metadata": {},
   "outputs": [
    {
     "data": {
      "text/plain": [
       "Target\n",
       "no     0.527\n",
       "yes    0.473\n",
       "dtype: float64"
      ]
     },
     "execution_count": 22,
     "metadata": {},
     "output_type": "execute_result"
    }
   ],
   "source": [
    "round(dat.groupby('Target').size()/len(dat), 3)"
   ]
  },
  {
   "cell_type": "code",
   "execution_count": 23,
   "id": "03f1aca3-471c-4516-b618-fac99501bd1b",
   "metadata": {},
   "outputs": [],
   "source": [
    "Train, Test = train_test_split(dat, \n",
    "                               stratify = dat.Target,\n",
    "                               test_size = 0.20, \n",
    "                               random_state = 345)"
   ]
  },
  {
   "cell_type": "code",
   "execution_count": 24,
   "id": "1568c264-0471-4c75-b1d0-00f45c245c61",
   "metadata": {},
   "outputs": [
    {
     "data": {
      "text/plain": [
       "957"
      ]
     },
     "metadata": {},
     "output_type": "display_data"
    },
    {
     "data": {
      "text/plain": [
       "240"
      ]
     },
     "metadata": {},
     "output_type": "display_data"
    }
   ],
   "source": [
    "display(len(Train),\n",
    "        len(Test))"
   ]
  },
  {
   "cell_type": "code",
   "execution_count": 25,
   "id": "294a0916-9e79-4da3-a12a-5daa734c6e6f",
   "metadata": {},
   "outputs": [
    {
     "data": {
      "text/plain": [
       "0.799"
      ]
     },
     "metadata": {},
     "output_type": "display_data"
    },
    {
     "data": {
      "text/plain": [
       "0.201"
      ]
     },
     "metadata": {},
     "output_type": "display_data"
    }
   ],
   "source": [
    "display(round(len(Train)/len(dat), 3), \n",
    "        round(len(Test)/len(dat), 3))"
   ]
  },
  {
   "cell_type": "code",
   "execution_count": 26,
   "id": "20fb931a-72ac-419c-87e8-336d030d5d9e",
   "metadata": {
    "tags": []
   },
   "outputs": [
    {
     "data": {
      "text/plain": [
       "Target\n",
       "no     504\n",
       "yes    453\n",
       "dtype: int64"
      ]
     },
     "metadata": {},
     "output_type": "display_data"
    },
    {
     "data": {
      "text/plain": [
       "Target\n",
       "no     0.527\n",
       "yes    0.473\n",
       "dtype: float64"
      ]
     },
     "execution_count": 26,
     "metadata": {},
     "output_type": "execute_result"
    }
   ],
   "source": [
    "display(Train.groupby('Target').size())\n",
    "round(Train.groupby('Target').size()/len(Train), 3)"
   ]
  },
  {
   "cell_type": "code",
   "execution_count": 27,
   "id": "026d33de-7968-4dbc-848a-4c719895b252",
   "metadata": {},
   "outputs": [
    {
     "data": {
      "text/plain": [
       "Target\n",
       "no     127\n",
       "yes    113\n",
       "dtype: int64"
      ]
     },
     "metadata": {},
     "output_type": "display_data"
    },
    {
     "data": {
      "text/plain": [
       "Target\n",
       "no     0.529\n",
       "yes    0.471\n",
       "dtype: float64"
      ]
     },
     "execution_count": 27,
     "metadata": {},
     "output_type": "execute_result"
    }
   ],
   "source": [
    "display(Test.groupby('Target').size())\n",
    "round(Test.groupby('Target').size()/len(Test), 3)"
   ]
  },
  {
   "cell_type": "code",
   "execution_count": 28,
   "id": "4290191a-8403-4f2b-9f34-357d78469670",
   "metadata": {
    "tags": []
   },
   "outputs": [
    {
     "data": {
      "text/plain": [
       "(906, 15)"
      ]
     },
     "execution_count": 28,
     "metadata": {},
     "output_type": "execute_result"
    }
   ],
   "source": [
    "np.random.seed(345) # to create reproducible results\n",
    "\n",
    "maj_class = np.where(Train.Target == \"no\")[0]\n",
    "min_class = np.where(Train.Target == \"yes\")[0]\n",
    "\n",
    "resample = np.random.choice(maj_class, size = len(min_class), replace = False)\n",
    "\n",
    "TrainDS = pd.concat([Train.iloc[min_class], Train.iloc[resample]])\n",
    "\n",
    "TrainDS.shape"
   ]
  },
  {
   "cell_type": "code",
   "execution_count": 29,
   "id": "30a5248b-7088-42dc-b802-342325f9c6fc",
   "metadata": {
    "tags": []
   },
   "outputs": [
    {
     "data": {
      "text/plain": [
       "Target\n",
       "no     453\n",
       "yes    453\n",
       "dtype: int64"
      ]
     },
     "metadata": {},
     "output_type": "display_data"
    },
    {
     "data": {
      "text/plain": [
       "Target\n",
       "no     0.5\n",
       "yes    0.5\n",
       "dtype: float64"
      ]
     },
     "execution_count": 29,
     "metadata": {},
     "output_type": "execute_result"
    }
   ],
   "source": [
    "display(TrainDS.groupby('Target').size())\n",
    "round(TrainDS.groupby('Target').size()/len(TrainDS), 3)"
   ]
  },
  {
   "cell_type": "markdown",
   "id": "6dbc9e0b-dabf-4a09-b6e6-669607164c8a",
   "metadata": {},
   "source": [
    "# Checking stuff"
   ]
  },
  {
   "cell_type": "code",
   "execution_count": 30,
   "id": "ea731502-f064-4228-a9fa-f1641acd6c3e",
   "metadata": {
    "tags": []
   },
   "outputs": [
    {
     "data": {
      "text/plain": [
       "0.0"
      ]
     },
     "execution_count": 30,
     "metadata": {},
     "output_type": "execute_result"
    }
   ],
   "source": [
    "round(1 - len(TrainDS.dropna())/len(TrainDS), 3)"
   ]
  },
  {
   "cell_type": "code",
   "execution_count": 31,
   "id": "8c7206b4-95e3-4c59-a16b-d37ac041d311",
   "metadata": {},
   "outputs": [
    {
     "data": {
      "text/plain": [
       "date                     0.0\n",
       "quarter                  0.0\n",
       "department               0.0\n",
       "day                      0.0\n",
       "team                     0.0\n",
       "targeted_productivity    0.0\n",
       "smv                      0.0\n",
       "wip                      0.0\n",
       "over_time                0.0\n",
       "incentive                0.0\n",
       "idle_time                0.0\n",
       "idle_men                 0.0\n",
       "no_of_style_change       0.0\n",
       "no_of_workers            0.0\n",
       "Target                   0.0\n",
       "dtype: float64"
      ]
     },
     "execution_count": 31,
     "metadata": {},
     "output_type": "execute_result"
    }
   ],
   "source": [
    "round(TrainDS.isna().sum()/len(TrainDS), 3)"
   ]
  },
  {
   "cell_type": "code",
   "execution_count": 32,
   "id": "4155210b-6006-42ac-b663-31dee3f1aced",
   "metadata": {},
   "outputs": [
    {
     "data": {
      "text/html": [
       "<div>\n",
       "<style scoped>\n",
       "    .dataframe tbody tr th:only-of-type {\n",
       "        vertical-align: middle;\n",
       "    }\n",
       "\n",
       "    .dataframe tbody tr th {\n",
       "        vertical-align: top;\n",
       "    }\n",
       "\n",
       "    .dataframe thead th {\n",
       "        text-align: right;\n",
       "    }\n",
       "</style>\n",
       "<table border=\"1\" class=\"dataframe\">\n",
       "  <thead>\n",
       "    <tr style=\"text-align: right;\">\n",
       "      <th></th>\n",
       "      <th>date</th>\n",
       "      <th>quarter</th>\n",
       "      <th>department</th>\n",
       "      <th>day</th>\n",
       "      <th>team</th>\n",
       "      <th>targeted_productivity</th>\n",
       "      <th>smv</th>\n",
       "      <th>wip</th>\n",
       "      <th>over_time</th>\n",
       "      <th>incentive</th>\n",
       "      <th>idle_time</th>\n",
       "      <th>idle_men</th>\n",
       "      <th>no_of_style_change</th>\n",
       "      <th>no_of_workers</th>\n",
       "      <th>Target</th>\n",
       "    </tr>\n",
       "  </thead>\n",
       "  <tbody>\n",
       "    <tr>\n",
       "      <th>303</th>\n",
       "      <td>1/18/2015</td>\n",
       "      <td>Quarter3</td>\n",
       "      <td>sweing</td>\n",
       "      <td>Sunday</td>\n",
       "      <td>7</td>\n",
       "      <td>0.8</td>\n",
       "      <td>48.84</td>\n",
       "      <td>624.0</td>\n",
       "      <td>10170</td>\n",
       "      <td>50</td>\n",
       "      <td>0.0</td>\n",
       "      <td>0</td>\n",
       "      <td>0</td>\n",
       "      <td>56.5</td>\n",
       "      <td>yes</td>\n",
       "    </tr>\n",
       "    <tr>\n",
       "      <th>1052</th>\n",
       "      <td>3/4/2015</td>\n",
       "      <td>Quarter1</td>\n",
       "      <td>finishing</td>\n",
       "      <td>Wednesday</td>\n",
       "      <td>4</td>\n",
       "      <td>0.7</td>\n",
       "      <td>3.94</td>\n",
       "      <td>0.0</td>\n",
       "      <td>960</td>\n",
       "      <td>0</td>\n",
       "      <td>0.0</td>\n",
       "      <td>0</td>\n",
       "      <td>0</td>\n",
       "      <td>8.0</td>\n",
       "      <td>yes</td>\n",
       "    </tr>\n",
       "    <tr>\n",
       "      <th>521</th>\n",
       "      <td>1/31/2015</td>\n",
       "      <td>Quarter5</td>\n",
       "      <td>finishing</td>\n",
       "      <td>Saturday</td>\n",
       "      <td>3</td>\n",
       "      <td>0.8</td>\n",
       "      <td>3.94</td>\n",
       "      <td>0.0</td>\n",
       "      <td>960</td>\n",
       "      <td>0</td>\n",
       "      <td>0.0</td>\n",
       "      <td>0</td>\n",
       "      <td>0</td>\n",
       "      <td>8.0</td>\n",
       "      <td>yes</td>\n",
       "    </tr>\n",
       "    <tr>\n",
       "      <th>353</th>\n",
       "      <td>1/21/2015</td>\n",
       "      <td>Quarter3</td>\n",
       "      <td>finishing</td>\n",
       "      <td>Wednesday</td>\n",
       "      <td>2</td>\n",
       "      <td>0.7</td>\n",
       "      <td>3.94</td>\n",
       "      <td>0.0</td>\n",
       "      <td>5100</td>\n",
       "      <td>0</td>\n",
       "      <td>0.0</td>\n",
       "      <td>0</td>\n",
       "      <td>0</td>\n",
       "      <td>17.0</td>\n",
       "      <td>yes</td>\n",
       "    </tr>\n",
       "    <tr>\n",
       "      <th>69</th>\n",
       "      <td>1/5/2015</td>\n",
       "      <td>Quarter1</td>\n",
       "      <td>sweing</td>\n",
       "      <td>Monday</td>\n",
       "      <td>8</td>\n",
       "      <td>0.8</td>\n",
       "      <td>25.90</td>\n",
       "      <td>1047.0</td>\n",
       "      <td>6780</td>\n",
       "      <td>38</td>\n",
       "      <td>0.0</td>\n",
       "      <td>0</td>\n",
       "      <td>0</td>\n",
       "      <td>56.5</td>\n",
       "      <td>yes</td>\n",
       "    </tr>\n",
       "  </tbody>\n",
       "</table>\n",
       "</div>"
      ],
      "text/plain": [
       "           date   quarter department        day team  targeted_productivity  \\\n",
       "303   1/18/2015  Quarter3     sweing     Sunday    7                    0.8   \n",
       "1052   3/4/2015  Quarter1  finishing  Wednesday    4                    0.7   \n",
       "521   1/31/2015  Quarter5  finishing   Saturday    3                    0.8   \n",
       "353   1/21/2015  Quarter3  finishing  Wednesday    2                    0.7   \n",
       "69     1/5/2015  Quarter1     sweing     Monday    8                    0.8   \n",
       "\n",
       "        smv     wip  over_time  incentive  idle_time  idle_men  \\\n",
       "303   48.84   624.0      10170         50        0.0         0   \n",
       "1052   3.94     0.0        960          0        0.0         0   \n",
       "521    3.94     0.0        960          0        0.0         0   \n",
       "353    3.94     0.0       5100          0        0.0         0   \n",
       "69    25.90  1047.0       6780         38        0.0         0   \n",
       "\n",
       "      no_of_style_change  no_of_workers Target  \n",
       "303                    0           56.5    yes  \n",
       "1052                   0            8.0    yes  \n",
       "521                    0            8.0    yes  \n",
       "353                    0           17.0    yes  \n",
       "69                     0           56.5    yes  "
      ]
     },
     "metadata": {},
     "output_type": "display_data"
    },
    {
     "data": {
      "text/plain": [
       "date                      object\n",
       "quarter                   object\n",
       "department                object\n",
       "day                       object\n",
       "team                      object\n",
       "targeted_productivity    float64\n",
       "smv                      float64\n",
       "wip                      float64\n",
       "over_time                  int64\n",
       "incentive                  int64\n",
       "idle_time                float64\n",
       "idle_men                   int64\n",
       "no_of_style_change         int64\n",
       "no_of_workers            float64\n",
       "Target                    object\n",
       "dtype: object"
      ]
     },
     "metadata": {},
     "output_type": "display_data"
    },
    {
     "data": {
      "text/plain": [
       "(906, 15)"
      ]
     },
     "metadata": {},
     "output_type": "display_data"
    }
   ],
   "source": [
    "display(TrainDS.head(), TrainDS.dtypes, TrainDS.shape)"
   ]
  },
  {
   "cell_type": "markdown",
   "id": "41c00f76-398b-44fb-9d28-964d5f1fef36",
   "metadata": {},
   "source": [
    "Preprocessing Train Data"
   ]
  },
  {
   "cell_type": "code",
   "execution_count": 33,
   "id": "33798d6d-d9bd-4538-b37f-7f2c8a3b9f5d",
   "metadata": {},
   "outputs": [
    {
     "name": "stderr",
     "output_type": "stream",
     "text": [
      "c:\\python39\\lib\\site-packages\\sklearn\\utils\\deprecation.py:87: FutureWarning: Function get_feature_names is deprecated; get_feature_names is deprecated in 1.0 and will be removed in 1.2. Please use get_feature_names_out instead.\n",
      "  warnings.warn(msg, category=FutureWarning)\n"
     ]
    },
    {
     "data": {
      "text/html": [
       "<div>\n",
       "<style scoped>\n",
       "    .dataframe tbody tr th:only-of-type {\n",
       "        vertical-align: middle;\n",
       "    }\n",
       "\n",
       "    .dataframe tbody tr th {\n",
       "        vertical-align: top;\n",
       "    }\n",
       "\n",
       "    .dataframe thead th {\n",
       "        text-align: right;\n",
       "    }\n",
       "</style>\n",
       "<table border=\"1\" class=\"dataframe\">\n",
       "  <thead>\n",
       "    <tr style=\"text-align: right;\">\n",
       "      <th></th>\n",
       "      <th>targeted_productivity</th>\n",
       "      <th>smv</th>\n",
       "      <th>wip</th>\n",
       "      <th>over_time</th>\n",
       "      <th>incentive</th>\n",
       "      <th>idle_time</th>\n",
       "      <th>idle_men</th>\n",
       "      <th>no_of_style_change</th>\n",
       "      <th>no_of_workers</th>\n",
       "      <th>Target</th>\n",
       "      <th>...</th>\n",
       "      <th>team_3</th>\n",
       "      <th>team_4</th>\n",
       "      <th>team_5</th>\n",
       "      <th>team_6</th>\n",
       "      <th>team_7</th>\n",
       "      <th>team_8</th>\n",
       "      <th>team_9</th>\n",
       "      <th>team_10</th>\n",
       "      <th>team_11</th>\n",
       "      <th>team_12</th>\n",
       "    </tr>\n",
       "  </thead>\n",
       "  <tbody>\n",
       "    <tr>\n",
       "      <th>303</th>\n",
       "      <td>0.8</td>\n",
       "      <td>48.84</td>\n",
       "      <td>624.0</td>\n",
       "      <td>10170</td>\n",
       "      <td>50</td>\n",
       "      <td>0.0</td>\n",
       "      <td>0</td>\n",
       "      <td>0</td>\n",
       "      <td>56.5</td>\n",
       "      <td>yes</td>\n",
       "      <td>...</td>\n",
       "      <td>0.0</td>\n",
       "      <td>0.0</td>\n",
       "      <td>0.0</td>\n",
       "      <td>0.0</td>\n",
       "      <td>1.0</td>\n",
       "      <td>0.0</td>\n",
       "      <td>0.0</td>\n",
       "      <td>0.0</td>\n",
       "      <td>0.0</td>\n",
       "      <td>0.0</td>\n",
       "    </tr>\n",
       "    <tr>\n",
       "      <th>1052</th>\n",
       "      <td>0.7</td>\n",
       "      <td>3.94</td>\n",
       "      <td>0.0</td>\n",
       "      <td>960</td>\n",
       "      <td>0</td>\n",
       "      <td>0.0</td>\n",
       "      <td>0</td>\n",
       "      <td>0</td>\n",
       "      <td>8.0</td>\n",
       "      <td>yes</td>\n",
       "      <td>...</td>\n",
       "      <td>0.0</td>\n",
       "      <td>1.0</td>\n",
       "      <td>0.0</td>\n",
       "      <td>0.0</td>\n",
       "      <td>0.0</td>\n",
       "      <td>0.0</td>\n",
       "      <td>0.0</td>\n",
       "      <td>0.0</td>\n",
       "      <td>0.0</td>\n",
       "      <td>0.0</td>\n",
       "    </tr>\n",
       "    <tr>\n",
       "      <th>521</th>\n",
       "      <td>0.8</td>\n",
       "      <td>3.94</td>\n",
       "      <td>0.0</td>\n",
       "      <td>960</td>\n",
       "      <td>0</td>\n",
       "      <td>0.0</td>\n",
       "      <td>0</td>\n",
       "      <td>0</td>\n",
       "      <td>8.0</td>\n",
       "      <td>yes</td>\n",
       "      <td>...</td>\n",
       "      <td>1.0</td>\n",
       "      <td>0.0</td>\n",
       "      <td>0.0</td>\n",
       "      <td>0.0</td>\n",
       "      <td>0.0</td>\n",
       "      <td>0.0</td>\n",
       "      <td>0.0</td>\n",
       "      <td>0.0</td>\n",
       "      <td>0.0</td>\n",
       "      <td>0.0</td>\n",
       "    </tr>\n",
       "    <tr>\n",
       "      <th>353</th>\n",
       "      <td>0.7</td>\n",
       "      <td>3.94</td>\n",
       "      <td>0.0</td>\n",
       "      <td>5100</td>\n",
       "      <td>0</td>\n",
       "      <td>0.0</td>\n",
       "      <td>0</td>\n",
       "      <td>0</td>\n",
       "      <td>17.0</td>\n",
       "      <td>yes</td>\n",
       "      <td>...</td>\n",
       "      <td>0.0</td>\n",
       "      <td>0.0</td>\n",
       "      <td>0.0</td>\n",
       "      <td>0.0</td>\n",
       "      <td>0.0</td>\n",
       "      <td>0.0</td>\n",
       "      <td>0.0</td>\n",
       "      <td>0.0</td>\n",
       "      <td>0.0</td>\n",
       "      <td>0.0</td>\n",
       "    </tr>\n",
       "    <tr>\n",
       "      <th>69</th>\n",
       "      <td>0.8</td>\n",
       "      <td>25.90</td>\n",
       "      <td>1047.0</td>\n",
       "      <td>6780</td>\n",
       "      <td>38</td>\n",
       "      <td>0.0</td>\n",
       "      <td>0</td>\n",
       "      <td>0</td>\n",
       "      <td>56.5</td>\n",
       "      <td>yes</td>\n",
       "      <td>...</td>\n",
       "      <td>0.0</td>\n",
       "      <td>0.0</td>\n",
       "      <td>0.0</td>\n",
       "      <td>0.0</td>\n",
       "      <td>0.0</td>\n",
       "      <td>1.0</td>\n",
       "      <td>0.0</td>\n",
       "      <td>0.0</td>\n",
       "      <td>0.0</td>\n",
       "      <td>0.0</td>\n",
       "    </tr>\n",
       "  </tbody>\n",
       "</table>\n",
       "<p>5 rows × 94 columns</p>\n",
       "</div>"
      ],
      "text/plain": [
       "      targeted_productivity    smv     wip  over_time  incentive  idle_time  \\\n",
       "303                     0.8  48.84   624.0      10170         50        0.0   \n",
       "1052                    0.7   3.94     0.0        960          0        0.0   \n",
       "521                     0.8   3.94     0.0        960          0        0.0   \n",
       "353                     0.7   3.94     0.0       5100          0        0.0   \n",
       "69                      0.8  25.90  1047.0       6780         38        0.0   \n",
       "\n",
       "      idle_men  no_of_style_change  no_of_workers Target  ...  team_3  team_4  \\\n",
       "303          0                   0           56.5    yes  ...     0.0     0.0   \n",
       "1052         0                   0            8.0    yes  ...     0.0     1.0   \n",
       "521          0                   0            8.0    yes  ...     1.0     0.0   \n",
       "353          0                   0           17.0    yes  ...     0.0     0.0   \n",
       "69           0                   0           56.5    yes  ...     0.0     0.0   \n",
       "\n",
       "      team_5  team_6  team_7  team_8  team_9  team_10  team_11  team_12  \n",
       "303      0.0     0.0     1.0     0.0     0.0      0.0      0.0      0.0  \n",
       "1052     0.0     0.0     0.0     0.0     0.0      0.0      0.0      0.0  \n",
       "521      0.0     0.0     0.0     0.0     0.0      0.0      0.0      0.0  \n",
       "353      0.0     0.0     0.0     0.0     0.0      0.0      0.0      0.0  \n",
       "69       0.0     0.0     0.0     1.0     0.0      0.0      0.0      0.0  \n",
       "\n",
       "[5 rows x 94 columns]"
      ]
     },
     "execution_count": 33,
     "metadata": {},
     "output_type": "execute_result"
    }
   ],
   "source": [
    "#One Hot Encoding\n",
    "enc = OneHotEncoder(handle_unknown = 'ignore', \n",
    "                    sparse = False)\n",
    "\n",
    "enc_raw_data_train = TrainDS.drop(columns = 'Target').select_dtypes(include = ['object', 'category'])\n",
    "\n",
    "enc = enc.fit(enc_raw_data_train)\n",
    "\n",
    "encoded_data_train = pd.DataFrame(enc.transform(enc_raw_data_train))\n",
    "\n",
    "encoded_data_train.columns = enc.get_feature_names(enc_raw_data_train.columns)\n",
    "encoded_data_train.index = enc_raw_data_train.index\n",
    "\n",
    "TrainDS_ImpConstEnc = pd.concat([TrainDS.drop(enc_raw_data_train.columns, axis = 1), encoded_data_train], axis = 1)\n",
    "\n",
    "TrainDS_ImpConstEnc.head()"
   ]
  },
  {
   "cell_type": "code",
   "execution_count": 34,
   "id": "21c05909-d558-4119-8747-f19b7b1056d1",
   "metadata": {
    "tags": []
   },
   "outputs": [
    {
     "data": {
      "text/html": [
       "<div>\n",
       "<style scoped>\n",
       "    .dataframe tbody tr th:only-of-type {\n",
       "        vertical-align: middle;\n",
       "    }\n",
       "\n",
       "    .dataframe tbody tr th {\n",
       "        vertical-align: top;\n",
       "    }\n",
       "\n",
       "    .dataframe thead th {\n",
       "        text-align: right;\n",
       "    }\n",
       "</style>\n",
       "<table border=\"1\" class=\"dataframe\">\n",
       "  <thead>\n",
       "    <tr style=\"text-align: right;\">\n",
       "      <th></th>\n",
       "      <th>Target</th>\n",
       "      <th>targeted_productivity</th>\n",
       "      <th>smv</th>\n",
       "      <th>wip</th>\n",
       "      <th>over_time</th>\n",
       "      <th>incentive</th>\n",
       "      <th>idle_time</th>\n",
       "      <th>idle_men</th>\n",
       "      <th>no_of_style_change</th>\n",
       "      <th>no_of_workers</th>\n",
       "      <th>...</th>\n",
       "      <th>team_3</th>\n",
       "      <th>team_4</th>\n",
       "      <th>team_5</th>\n",
       "      <th>team_6</th>\n",
       "      <th>team_7</th>\n",
       "      <th>team_8</th>\n",
       "      <th>team_9</th>\n",
       "      <th>team_10</th>\n",
       "      <th>team_11</th>\n",
       "      <th>team_12</th>\n",
       "    </tr>\n",
       "  </thead>\n",
       "  <tbody>\n",
       "    <tr>\n",
       "      <th>303</th>\n",
       "      <td>yes</td>\n",
       "      <td>0.8</td>\n",
       "      <td>48.84</td>\n",
       "      <td>624.0</td>\n",
       "      <td>10170</td>\n",
       "      <td>50</td>\n",
       "      <td>0.0</td>\n",
       "      <td>0</td>\n",
       "      <td>0</td>\n",
       "      <td>56.5</td>\n",
       "      <td>...</td>\n",
       "      <td>0.0</td>\n",
       "      <td>0.0</td>\n",
       "      <td>0.0</td>\n",
       "      <td>0.0</td>\n",
       "      <td>1.0</td>\n",
       "      <td>0.0</td>\n",
       "      <td>0.0</td>\n",
       "      <td>0.0</td>\n",
       "      <td>0.0</td>\n",
       "      <td>0.0</td>\n",
       "    </tr>\n",
       "    <tr>\n",
       "      <th>1052</th>\n",
       "      <td>yes</td>\n",
       "      <td>0.7</td>\n",
       "      <td>3.94</td>\n",
       "      <td>0.0</td>\n",
       "      <td>960</td>\n",
       "      <td>0</td>\n",
       "      <td>0.0</td>\n",
       "      <td>0</td>\n",
       "      <td>0</td>\n",
       "      <td>8.0</td>\n",
       "      <td>...</td>\n",
       "      <td>0.0</td>\n",
       "      <td>1.0</td>\n",
       "      <td>0.0</td>\n",
       "      <td>0.0</td>\n",
       "      <td>0.0</td>\n",
       "      <td>0.0</td>\n",
       "      <td>0.0</td>\n",
       "      <td>0.0</td>\n",
       "      <td>0.0</td>\n",
       "      <td>0.0</td>\n",
       "    </tr>\n",
       "    <tr>\n",
       "      <th>521</th>\n",
       "      <td>yes</td>\n",
       "      <td>0.8</td>\n",
       "      <td>3.94</td>\n",
       "      <td>0.0</td>\n",
       "      <td>960</td>\n",
       "      <td>0</td>\n",
       "      <td>0.0</td>\n",
       "      <td>0</td>\n",
       "      <td>0</td>\n",
       "      <td>8.0</td>\n",
       "      <td>...</td>\n",
       "      <td>1.0</td>\n",
       "      <td>0.0</td>\n",
       "      <td>0.0</td>\n",
       "      <td>0.0</td>\n",
       "      <td>0.0</td>\n",
       "      <td>0.0</td>\n",
       "      <td>0.0</td>\n",
       "      <td>0.0</td>\n",
       "      <td>0.0</td>\n",
       "      <td>0.0</td>\n",
       "    </tr>\n",
       "    <tr>\n",
       "      <th>353</th>\n",
       "      <td>yes</td>\n",
       "      <td>0.7</td>\n",
       "      <td>3.94</td>\n",
       "      <td>0.0</td>\n",
       "      <td>5100</td>\n",
       "      <td>0</td>\n",
       "      <td>0.0</td>\n",
       "      <td>0</td>\n",
       "      <td>0</td>\n",
       "      <td>17.0</td>\n",
       "      <td>...</td>\n",
       "      <td>0.0</td>\n",
       "      <td>0.0</td>\n",
       "      <td>0.0</td>\n",
       "      <td>0.0</td>\n",
       "      <td>0.0</td>\n",
       "      <td>0.0</td>\n",
       "      <td>0.0</td>\n",
       "      <td>0.0</td>\n",
       "      <td>0.0</td>\n",
       "      <td>0.0</td>\n",
       "    </tr>\n",
       "    <tr>\n",
       "      <th>69</th>\n",
       "      <td>yes</td>\n",
       "      <td>0.8</td>\n",
       "      <td>25.90</td>\n",
       "      <td>1047.0</td>\n",
       "      <td>6780</td>\n",
       "      <td>38</td>\n",
       "      <td>0.0</td>\n",
       "      <td>0</td>\n",
       "      <td>0</td>\n",
       "      <td>56.5</td>\n",
       "      <td>...</td>\n",
       "      <td>0.0</td>\n",
       "      <td>0.0</td>\n",
       "      <td>0.0</td>\n",
       "      <td>0.0</td>\n",
       "      <td>0.0</td>\n",
       "      <td>1.0</td>\n",
       "      <td>0.0</td>\n",
       "      <td>0.0</td>\n",
       "      <td>0.0</td>\n",
       "      <td>0.0</td>\n",
       "    </tr>\n",
       "  </tbody>\n",
       "</table>\n",
       "<p>5 rows × 94 columns</p>\n",
       "</div>"
      ],
      "text/plain": [
       "     Target  targeted_productivity    smv     wip  over_time  incentive  \\\n",
       "303     yes                    0.8  48.84   624.0      10170         50   \n",
       "1052    yes                    0.7   3.94     0.0        960          0   \n",
       "521     yes                    0.8   3.94     0.0        960          0   \n",
       "353     yes                    0.7   3.94     0.0       5100          0   \n",
       "69      yes                    0.8  25.90  1047.0       6780         38   \n",
       "\n",
       "      idle_time  idle_men  no_of_style_change  no_of_workers  ...  team_3  \\\n",
       "303         0.0         0                   0           56.5  ...     0.0   \n",
       "1052        0.0         0                   0            8.0  ...     0.0   \n",
       "521         0.0         0                   0            8.0  ...     1.0   \n",
       "353         0.0         0                   0           17.0  ...     0.0   \n",
       "69          0.0         0                   0           56.5  ...     0.0   \n",
       "\n",
       "      team_4  team_5  team_6  team_7  team_8  team_9  team_10  team_11  \\\n",
       "303      0.0     0.0     0.0     1.0     0.0     0.0      0.0      0.0   \n",
       "1052     1.0     0.0     0.0     0.0     0.0     0.0      0.0      0.0   \n",
       "521      0.0     0.0     0.0     0.0     0.0     0.0      0.0      0.0   \n",
       "353      0.0     0.0     0.0     0.0     0.0     0.0      0.0      0.0   \n",
       "69       0.0     0.0     0.0     0.0     1.0     0.0      0.0      0.0   \n",
       "\n",
       "      team_12  \n",
       "303       0.0  \n",
       "1052      0.0  \n",
       "521       0.0  \n",
       "353       0.0  \n",
       "69        0.0  \n",
       "\n",
       "[5 rows x 94 columns]"
      ]
     },
     "execution_count": 34,
     "metadata": {},
     "output_type": "execute_result"
    }
   ],
   "source": [
    "#Variance Threshold\n",
    "selector = VarianceThreshold()\n",
    "\n",
    "sel_raw_data_train = TrainDS_ImpConstEnc.drop(columns = 'Target')\n",
    "\n",
    "selector = selector.fit(sel_raw_data_train)\n",
    "\n",
    "selected_data_train = sel_raw_data_train.iloc[:, selector.get_support(indices = True)]\n",
    "\n",
    "TrainDS_ImpConstEncSel = pd.concat([TrainDS_ImpConstEnc.drop(sel_raw_data_train.columns, axis = 1), selected_data_train], axis = 1)\n",
    "\n",
    "TrainDS_ImpConstEncSel.head()"
   ]
  },
  {
   "cell_type": "code",
   "execution_count": 35,
   "id": "4922183d-e468-47ce-8fb3-b15a95378fec",
   "metadata": {},
   "outputs": [
    {
     "data": {
      "text/html": [
       "<div>\n",
       "<style scoped>\n",
       "    .dataframe tbody tr th:only-of-type {\n",
       "        vertical-align: middle;\n",
       "    }\n",
       "\n",
       "    .dataframe tbody tr th {\n",
       "        vertical-align: top;\n",
       "    }\n",
       "\n",
       "    .dataframe thead th {\n",
       "        text-align: right;\n",
       "    }\n",
       "</style>\n",
       "<table border=\"1\" class=\"dataframe\">\n",
       "  <thead>\n",
       "    <tr style=\"text-align: right;\">\n",
       "      <th></th>\n",
       "      <th>date</th>\n",
       "      <th>quarter</th>\n",
       "      <th>department</th>\n",
       "      <th>day</th>\n",
       "      <th>team</th>\n",
       "      <th>targeted_productivity</th>\n",
       "      <th>smv</th>\n",
       "      <th>wip</th>\n",
       "      <th>over_time</th>\n",
       "      <th>incentive</th>\n",
       "      <th>idle_time</th>\n",
       "      <th>idle_men</th>\n",
       "      <th>no_of_style_change</th>\n",
       "      <th>no_of_workers</th>\n",
       "      <th>Target</th>\n",
       "    </tr>\n",
       "  </thead>\n",
       "  <tbody>\n",
       "    <tr>\n",
       "      <th>109</th>\n",
       "      <td>1/7/2015</td>\n",
       "      <td>Quarter1</td>\n",
       "      <td>finishing</td>\n",
       "      <td>Wednesday</td>\n",
       "      <td>3</td>\n",
       "      <td>0.75</td>\n",
       "      <td>4.15</td>\n",
       "      <td>0.0</td>\n",
       "      <td>2700</td>\n",
       "      <td>0</td>\n",
       "      <td>0.0</td>\n",
       "      <td>0</td>\n",
       "      <td>0</td>\n",
       "      <td>15.0</td>\n",
       "      <td>yes</td>\n",
       "    </tr>\n",
       "    <tr>\n",
       "      <th>1014</th>\n",
       "      <td>3/2/2015</td>\n",
       "      <td>Quarter1</td>\n",
       "      <td>finishing</td>\n",
       "      <td>Monday</td>\n",
       "      <td>8</td>\n",
       "      <td>0.75</td>\n",
       "      <td>4.60</td>\n",
       "      <td>0.0</td>\n",
       "      <td>3360</td>\n",
       "      <td>0</td>\n",
       "      <td>0.0</td>\n",
       "      <td>0</td>\n",
       "      <td>0</td>\n",
       "      <td>8.0</td>\n",
       "      <td>no</td>\n",
       "    </tr>\n",
       "    <tr>\n",
       "      <th>1174</th>\n",
       "      <td>3/11/2015</td>\n",
       "      <td>Quarter2</td>\n",
       "      <td>finishing</td>\n",
       "      <td>Wednesday</td>\n",
       "      <td>11</td>\n",
       "      <td>0.80</td>\n",
       "      <td>2.90</td>\n",
       "      <td>0.0</td>\n",
       "      <td>2400</td>\n",
       "      <td>0</td>\n",
       "      <td>0.0</td>\n",
       "      <td>0</td>\n",
       "      <td>0</td>\n",
       "      <td>10.0</td>\n",
       "      <td>yes</td>\n",
       "    </tr>\n",
       "    <tr>\n",
       "      <th>433</th>\n",
       "      <td>1/25/2015</td>\n",
       "      <td>Quarter4</td>\n",
       "      <td>finishing</td>\n",
       "      <td>Sunday</td>\n",
       "      <td>12</td>\n",
       "      <td>0.70</td>\n",
       "      <td>4.08</td>\n",
       "      <td>0.0</td>\n",
       "      <td>1620</td>\n",
       "      <td>0</td>\n",
       "      <td>0.0</td>\n",
       "      <td>0</td>\n",
       "      <td>0</td>\n",
       "      <td>9.0</td>\n",
       "      <td>no</td>\n",
       "    </tr>\n",
       "    <tr>\n",
       "      <th>895</th>\n",
       "      <td>2/23/2015</td>\n",
       "      <td>Quarter4</td>\n",
       "      <td>sweing</td>\n",
       "      <td>Monday</td>\n",
       "      <td>8</td>\n",
       "      <td>0.70</td>\n",
       "      <td>29.40</td>\n",
       "      <td>1094.0</td>\n",
       "      <td>6840</td>\n",
       "      <td>40</td>\n",
       "      <td>0.0</td>\n",
       "      <td>0</td>\n",
       "      <td>2</td>\n",
       "      <td>57.0</td>\n",
       "      <td>no</td>\n",
       "    </tr>\n",
       "  </tbody>\n",
       "</table>\n",
       "</div>"
      ],
      "text/plain": [
       "           date   quarter department        day team  targeted_productivity  \\\n",
       "109    1/7/2015  Quarter1  finishing  Wednesday    3                   0.75   \n",
       "1014   3/2/2015  Quarter1  finishing     Monday    8                   0.75   \n",
       "1174  3/11/2015  Quarter2  finishing  Wednesday   11                   0.80   \n",
       "433   1/25/2015  Quarter4  finishing     Sunday   12                   0.70   \n",
       "895   2/23/2015  Quarter4     sweing     Monday    8                   0.70   \n",
       "\n",
       "        smv     wip  over_time  incentive  idle_time  idle_men  \\\n",
       "109    4.15     0.0       2700          0        0.0         0   \n",
       "1014   4.60     0.0       3360          0        0.0         0   \n",
       "1174   2.90     0.0       2400          0        0.0         0   \n",
       "433    4.08     0.0       1620          0        0.0         0   \n",
       "895   29.40  1094.0       6840         40        0.0         0   \n",
       "\n",
       "      no_of_style_change  no_of_workers Target  \n",
       "109                    0           15.0    yes  \n",
       "1014                   0            8.0     no  \n",
       "1174                   0           10.0    yes  \n",
       "433                    0            9.0     no  \n",
       "895                    2           57.0     no  "
      ]
     },
     "execution_count": 35,
     "metadata": {},
     "output_type": "execute_result"
    }
   ],
   "source": [
    "Test.head()"
   ]
  },
  {
   "cell_type": "code",
   "execution_count": 36,
   "id": "6c857411-95cd-4cf7-9752-dbd635e4a865",
   "metadata": {
    "tags": []
   },
   "outputs": [
    {
     "data": {
      "text/html": [
       "<div>\n",
       "<style scoped>\n",
       "    .dataframe tbody tr th:only-of-type {\n",
       "        vertical-align: middle;\n",
       "    }\n",
       "\n",
       "    .dataframe tbody tr th {\n",
       "        vertical-align: top;\n",
       "    }\n",
       "\n",
       "    .dataframe thead th {\n",
       "        text-align: right;\n",
       "    }\n",
       "</style>\n",
       "<table border=\"1\" class=\"dataframe\">\n",
       "  <thead>\n",
       "    <tr style=\"text-align: right;\">\n",
       "      <th></th>\n",
       "      <th>Target</th>\n",
       "      <th>targeted_productivity</th>\n",
       "      <th>smv</th>\n",
       "      <th>wip</th>\n",
       "      <th>over_time</th>\n",
       "      <th>incentive</th>\n",
       "      <th>idle_time</th>\n",
       "      <th>idle_men</th>\n",
       "      <th>no_of_style_change</th>\n",
       "      <th>no_of_workers</th>\n",
       "      <th>...</th>\n",
       "      <th>team_3</th>\n",
       "      <th>team_4</th>\n",
       "      <th>team_5</th>\n",
       "      <th>team_6</th>\n",
       "      <th>team_7</th>\n",
       "      <th>team_8</th>\n",
       "      <th>team_9</th>\n",
       "      <th>team_10</th>\n",
       "      <th>team_11</th>\n",
       "      <th>team_12</th>\n",
       "    </tr>\n",
       "  </thead>\n",
       "  <tbody>\n",
       "    <tr>\n",
       "      <th>303</th>\n",
       "      <td>yes</td>\n",
       "      <td>0.5</td>\n",
       "      <td>1.767368</td>\n",
       "      <td>0.056829</td>\n",
       "      <td>1.115385</td>\n",
       "      <td>1.00</td>\n",
       "      <td>0.0</td>\n",
       "      <td>0.0</td>\n",
       "      <td>0.0</td>\n",
       "      <td>0.468750</td>\n",
       "      <td>...</td>\n",
       "      <td>0.0</td>\n",
       "      <td>0.0</td>\n",
       "      <td>0.0</td>\n",
       "      <td>0.0</td>\n",
       "      <td>1.0</td>\n",
       "      <td>0.0</td>\n",
       "      <td>0.0</td>\n",
       "      <td>0.0</td>\n",
       "      <td>0.0</td>\n",
       "      <td>0.0</td>\n",
       "    </tr>\n",
       "    <tr>\n",
       "      <th>1052</th>\n",
       "      <td>yes</td>\n",
       "      <td>-0.5</td>\n",
       "      <td>-0.595789</td>\n",
       "      <td>-0.515124</td>\n",
       "      <td>-0.571429</td>\n",
       "      <td>0.00</td>\n",
       "      <td>0.0</td>\n",
       "      <td>0.0</td>\n",
       "      <td>0.0</td>\n",
       "      <td>-0.541667</td>\n",
       "      <td>...</td>\n",
       "      <td>0.0</td>\n",
       "      <td>1.0</td>\n",
       "      <td>0.0</td>\n",
       "      <td>0.0</td>\n",
       "      <td>0.0</td>\n",
       "      <td>0.0</td>\n",
       "      <td>0.0</td>\n",
       "      <td>0.0</td>\n",
       "      <td>0.0</td>\n",
       "      <td>0.0</td>\n",
       "    </tr>\n",
       "    <tr>\n",
       "      <th>521</th>\n",
       "      <td>yes</td>\n",
       "      <td>0.5</td>\n",
       "      <td>-0.595789</td>\n",
       "      <td>-0.515124</td>\n",
       "      <td>-0.571429</td>\n",
       "      <td>0.00</td>\n",
       "      <td>0.0</td>\n",
       "      <td>0.0</td>\n",
       "      <td>0.0</td>\n",
       "      <td>-0.541667</td>\n",
       "      <td>...</td>\n",
       "      <td>1.0</td>\n",
       "      <td>0.0</td>\n",
       "      <td>0.0</td>\n",
       "      <td>0.0</td>\n",
       "      <td>0.0</td>\n",
       "      <td>0.0</td>\n",
       "      <td>0.0</td>\n",
       "      <td>0.0</td>\n",
       "      <td>0.0</td>\n",
       "      <td>0.0</td>\n",
       "    </tr>\n",
       "    <tr>\n",
       "      <th>353</th>\n",
       "      <td>yes</td>\n",
       "      <td>-0.5</td>\n",
       "      <td>-0.595789</td>\n",
       "      <td>-0.515124</td>\n",
       "      <td>0.186813</td>\n",
       "      <td>0.00</td>\n",
       "      <td>0.0</td>\n",
       "      <td>0.0</td>\n",
       "      <td>0.0</td>\n",
       "      <td>-0.354167</td>\n",
       "      <td>...</td>\n",
       "      <td>0.0</td>\n",
       "      <td>0.0</td>\n",
       "      <td>0.0</td>\n",
       "      <td>0.0</td>\n",
       "      <td>0.0</td>\n",
       "      <td>0.0</td>\n",
       "      <td>0.0</td>\n",
       "      <td>0.0</td>\n",
       "      <td>0.0</td>\n",
       "      <td>0.0</td>\n",
       "    </tr>\n",
       "    <tr>\n",
       "      <th>69</th>\n",
       "      <td>yes</td>\n",
       "      <td>0.5</td>\n",
       "      <td>0.560000</td>\n",
       "      <td>0.444546</td>\n",
       "      <td>0.494505</td>\n",
       "      <td>0.76</td>\n",
       "      <td>0.0</td>\n",
       "      <td>0.0</td>\n",
       "      <td>0.0</td>\n",
       "      <td>0.468750</td>\n",
       "      <td>...</td>\n",
       "      <td>0.0</td>\n",
       "      <td>0.0</td>\n",
       "      <td>0.0</td>\n",
       "      <td>0.0</td>\n",
       "      <td>0.0</td>\n",
       "      <td>1.0</td>\n",
       "      <td>0.0</td>\n",
       "      <td>0.0</td>\n",
       "      <td>0.0</td>\n",
       "      <td>0.0</td>\n",
       "    </tr>\n",
       "  </tbody>\n",
       "</table>\n",
       "<p>5 rows × 94 columns</p>\n",
       "</div>"
      ],
      "text/plain": [
       "     Target  targeted_productivity       smv       wip  over_time  incentive  \\\n",
       "303     yes                    0.5  1.767368  0.056829   1.115385       1.00   \n",
       "1052    yes                   -0.5 -0.595789 -0.515124  -0.571429       0.00   \n",
       "521     yes                    0.5 -0.595789 -0.515124  -0.571429       0.00   \n",
       "353     yes                   -0.5 -0.595789 -0.515124   0.186813       0.00   \n",
       "69      yes                    0.5  0.560000  0.444546   0.494505       0.76   \n",
       "\n",
       "      idle_time  idle_men  no_of_style_change  no_of_workers  ...  team_3  \\\n",
       "303         0.0       0.0                 0.0       0.468750  ...     0.0   \n",
       "1052        0.0       0.0                 0.0      -0.541667  ...     0.0   \n",
       "521         0.0       0.0                 0.0      -0.541667  ...     1.0   \n",
       "353         0.0       0.0                 0.0      -0.354167  ...     0.0   \n",
       "69          0.0       0.0                 0.0       0.468750  ...     0.0   \n",
       "\n",
       "      team_4  team_5  team_6  team_7  team_8  team_9  team_10  team_11  \\\n",
       "303      0.0     0.0     0.0     1.0     0.0     0.0      0.0      0.0   \n",
       "1052     1.0     0.0     0.0     0.0     0.0     0.0      0.0      0.0   \n",
       "521      0.0     0.0     0.0     0.0     0.0     0.0      0.0      0.0   \n",
       "353      0.0     0.0     0.0     0.0     0.0     0.0      0.0      0.0   \n",
       "69       0.0     0.0     0.0     0.0     1.0     0.0      0.0      0.0   \n",
       "\n",
       "      team_12  \n",
       "303       0.0  \n",
       "1052      0.0  \n",
       "521       0.0  \n",
       "353       0.0  \n",
       "69        0.0  \n",
       "\n",
       "[5 rows x 94 columns]"
      ]
     },
     "execution_count": 36,
     "metadata": {},
     "output_type": "execute_result"
    }
   ],
   "source": [
    "scaler = RobustScaler()\n",
    "\n",
    "sca_raw_data_train = TrainDS_ImpConstEncSel.drop(columns = 'Target').select_dtypes(exclude = ['object', 'category'])\n",
    "\n",
    "scaler = scaler.fit(sca_raw_data_train)\n",
    "\n",
    "scaled_data_train = pd.DataFrame(scaler.transform(sca_raw_data_train))\n",
    "\n",
    "scaled_data_train.columns = sca_raw_data_train.columns\n",
    "scaled_data_train.index = sca_raw_data_train.index\n",
    "\n",
    "TrainDS_ImpConstEncSel = pd.concat([TrainDS_ImpConstEncSel.drop(sca_raw_data_train.columns, axis = 1), scaled_data_train], axis = 1)\n",
    "\n",
    "TrainDS_ImpConstEncSel.head()"
   ]
  },
  {
   "cell_type": "markdown",
   "id": "a766e9bf-9162-49a3-a8f8-c2527f0bde64",
   "metadata": {},
   "source": [
    "Test Preprocessing"
   ]
  },
  {
   "cell_type": "code",
   "execution_count": 37,
   "id": "a0cec68b-e8a7-4ce9-9242-aacead0cc95b",
   "metadata": {},
   "outputs": [
    {
     "name": "stderr",
     "output_type": "stream",
     "text": [
      "c:\\python39\\lib\\site-packages\\sklearn\\utils\\deprecation.py:87: FutureWarning: Function get_feature_names is deprecated; get_feature_names is deprecated in 1.0 and will be removed in 1.2. Please use get_feature_names_out instead.\n",
      "  warnings.warn(msg, category=FutureWarning)\n"
     ]
    },
    {
     "data": {
      "text/html": [
       "<div>\n",
       "<style scoped>\n",
       "    .dataframe tbody tr th:only-of-type {\n",
       "        vertical-align: middle;\n",
       "    }\n",
       "\n",
       "    .dataframe tbody tr th {\n",
       "        vertical-align: top;\n",
       "    }\n",
       "\n",
       "    .dataframe thead th {\n",
       "        text-align: right;\n",
       "    }\n",
       "</style>\n",
       "<table border=\"1\" class=\"dataframe\">\n",
       "  <thead>\n",
       "    <tr style=\"text-align: right;\">\n",
       "      <th></th>\n",
       "      <th>targeted_productivity</th>\n",
       "      <th>smv</th>\n",
       "      <th>wip</th>\n",
       "      <th>over_time</th>\n",
       "      <th>incentive</th>\n",
       "      <th>idle_time</th>\n",
       "      <th>idle_men</th>\n",
       "      <th>no_of_style_change</th>\n",
       "      <th>no_of_workers</th>\n",
       "      <th>Target</th>\n",
       "      <th>...</th>\n",
       "      <th>team_3</th>\n",
       "      <th>team_4</th>\n",
       "      <th>team_5</th>\n",
       "      <th>team_6</th>\n",
       "      <th>team_7</th>\n",
       "      <th>team_8</th>\n",
       "      <th>team_9</th>\n",
       "      <th>team_10</th>\n",
       "      <th>team_11</th>\n",
       "      <th>team_12</th>\n",
       "    </tr>\n",
       "  </thead>\n",
       "  <tbody>\n",
       "    <tr>\n",
       "      <th>109</th>\n",
       "      <td>0.75</td>\n",
       "      <td>4.15</td>\n",
       "      <td>0.0</td>\n",
       "      <td>2700</td>\n",
       "      <td>0</td>\n",
       "      <td>0.0</td>\n",
       "      <td>0</td>\n",
       "      <td>0</td>\n",
       "      <td>15.0</td>\n",
       "      <td>yes</td>\n",
       "      <td>...</td>\n",
       "      <td>1.0</td>\n",
       "      <td>0.0</td>\n",
       "      <td>0.0</td>\n",
       "      <td>0.0</td>\n",
       "      <td>0.0</td>\n",
       "      <td>0.0</td>\n",
       "      <td>0.0</td>\n",
       "      <td>0.0</td>\n",
       "      <td>0.0</td>\n",
       "      <td>0.0</td>\n",
       "    </tr>\n",
       "    <tr>\n",
       "      <th>1014</th>\n",
       "      <td>0.75</td>\n",
       "      <td>4.60</td>\n",
       "      <td>0.0</td>\n",
       "      <td>3360</td>\n",
       "      <td>0</td>\n",
       "      <td>0.0</td>\n",
       "      <td>0</td>\n",
       "      <td>0</td>\n",
       "      <td>8.0</td>\n",
       "      <td>no</td>\n",
       "      <td>...</td>\n",
       "      <td>0.0</td>\n",
       "      <td>0.0</td>\n",
       "      <td>0.0</td>\n",
       "      <td>0.0</td>\n",
       "      <td>0.0</td>\n",
       "      <td>1.0</td>\n",
       "      <td>0.0</td>\n",
       "      <td>0.0</td>\n",
       "      <td>0.0</td>\n",
       "      <td>0.0</td>\n",
       "    </tr>\n",
       "    <tr>\n",
       "      <th>1174</th>\n",
       "      <td>0.80</td>\n",
       "      <td>2.90</td>\n",
       "      <td>0.0</td>\n",
       "      <td>2400</td>\n",
       "      <td>0</td>\n",
       "      <td>0.0</td>\n",
       "      <td>0</td>\n",
       "      <td>0</td>\n",
       "      <td>10.0</td>\n",
       "      <td>yes</td>\n",
       "      <td>...</td>\n",
       "      <td>0.0</td>\n",
       "      <td>0.0</td>\n",
       "      <td>0.0</td>\n",
       "      <td>0.0</td>\n",
       "      <td>0.0</td>\n",
       "      <td>0.0</td>\n",
       "      <td>0.0</td>\n",
       "      <td>0.0</td>\n",
       "      <td>1.0</td>\n",
       "      <td>0.0</td>\n",
       "    </tr>\n",
       "    <tr>\n",
       "      <th>433</th>\n",
       "      <td>0.70</td>\n",
       "      <td>4.08</td>\n",
       "      <td>0.0</td>\n",
       "      <td>1620</td>\n",
       "      <td>0</td>\n",
       "      <td>0.0</td>\n",
       "      <td>0</td>\n",
       "      <td>0</td>\n",
       "      <td>9.0</td>\n",
       "      <td>no</td>\n",
       "      <td>...</td>\n",
       "      <td>0.0</td>\n",
       "      <td>0.0</td>\n",
       "      <td>0.0</td>\n",
       "      <td>0.0</td>\n",
       "      <td>0.0</td>\n",
       "      <td>0.0</td>\n",
       "      <td>0.0</td>\n",
       "      <td>0.0</td>\n",
       "      <td>0.0</td>\n",
       "      <td>1.0</td>\n",
       "    </tr>\n",
       "    <tr>\n",
       "      <th>895</th>\n",
       "      <td>0.70</td>\n",
       "      <td>29.40</td>\n",
       "      <td>1094.0</td>\n",
       "      <td>6840</td>\n",
       "      <td>40</td>\n",
       "      <td>0.0</td>\n",
       "      <td>0</td>\n",
       "      <td>2</td>\n",
       "      <td>57.0</td>\n",
       "      <td>no</td>\n",
       "      <td>...</td>\n",
       "      <td>0.0</td>\n",
       "      <td>0.0</td>\n",
       "      <td>0.0</td>\n",
       "      <td>0.0</td>\n",
       "      <td>0.0</td>\n",
       "      <td>1.0</td>\n",
       "      <td>0.0</td>\n",
       "      <td>0.0</td>\n",
       "      <td>0.0</td>\n",
       "      <td>0.0</td>\n",
       "    </tr>\n",
       "  </tbody>\n",
       "</table>\n",
       "<p>5 rows × 94 columns</p>\n",
       "</div>"
      ],
      "text/plain": [
       "      targeted_productivity    smv     wip  over_time  incentive  idle_time  \\\n",
       "109                    0.75   4.15     0.0       2700          0        0.0   \n",
       "1014                   0.75   4.60     0.0       3360          0        0.0   \n",
       "1174                   0.80   2.90     0.0       2400          0        0.0   \n",
       "433                    0.70   4.08     0.0       1620          0        0.0   \n",
       "895                    0.70  29.40  1094.0       6840         40        0.0   \n",
       "\n",
       "      idle_men  no_of_style_change  no_of_workers Target  ...  team_3  team_4  \\\n",
       "109          0                   0           15.0    yes  ...     1.0     0.0   \n",
       "1014         0                   0            8.0     no  ...     0.0     0.0   \n",
       "1174         0                   0           10.0    yes  ...     0.0     0.0   \n",
       "433          0                   0            9.0     no  ...     0.0     0.0   \n",
       "895          0                   2           57.0     no  ...     0.0     0.0   \n",
       "\n",
       "      team_5  team_6  team_7  team_8  team_9  team_10  team_11  team_12  \n",
       "109      0.0     0.0     0.0     0.0     0.0      0.0      0.0      0.0  \n",
       "1014     0.0     0.0     0.0     1.0     0.0      0.0      0.0      0.0  \n",
       "1174     0.0     0.0     0.0     0.0     0.0      0.0      1.0      0.0  \n",
       "433      0.0     0.0     0.0     0.0     0.0      0.0      0.0      1.0  \n",
       "895      0.0     0.0     0.0     1.0     0.0      0.0      0.0      0.0  \n",
       "\n",
       "[5 rows x 94 columns]"
      ]
     },
     "execution_count": 37,
     "metadata": {},
     "output_type": "execute_result"
    }
   ],
   "source": [
    "#One Hot Encoding\n",
    "enc = OneHotEncoder(handle_unknown = 'ignore', \n",
    "                    sparse = False)\n",
    "\n",
    "enc_raw_data_train = Test.drop(columns = 'Target').select_dtypes(include = ['object', 'category'])\n",
    "\n",
    "enc = enc.fit(enc_raw_data_train)\n",
    "\n",
    "encoded_data_train = pd.DataFrame(enc.transform(enc_raw_data_train))\n",
    "\n",
    "encoded_data_train.columns = enc.get_feature_names(enc_raw_data_train.columns)\n",
    "encoded_data_train.index = enc_raw_data_train.index\n",
    "\n",
    "Test_Enc = pd.concat([Test.drop(enc_raw_data_train.columns, axis = 1), encoded_data_train], axis = 1)\n",
    "\n",
    "Test_Enc.head()"
   ]
  },
  {
   "cell_type": "code",
   "execution_count": 38,
   "id": "ebb1c789-ee48-4c3f-b9c0-647e8f971c84",
   "metadata": {},
   "outputs": [
    {
     "data": {
      "text/html": [
       "<div>\n",
       "<style scoped>\n",
       "    .dataframe tbody tr th:only-of-type {\n",
       "        vertical-align: middle;\n",
       "    }\n",
       "\n",
       "    .dataframe tbody tr th {\n",
       "        vertical-align: top;\n",
       "    }\n",
       "\n",
       "    .dataframe thead th {\n",
       "        text-align: right;\n",
       "    }\n",
       "</style>\n",
       "<table border=\"1\" class=\"dataframe\">\n",
       "  <thead>\n",
       "    <tr style=\"text-align: right;\">\n",
       "      <th></th>\n",
       "      <th>Target</th>\n",
       "      <th>targeted_productivity</th>\n",
       "      <th>smv</th>\n",
       "      <th>wip</th>\n",
       "      <th>over_time</th>\n",
       "      <th>incentive</th>\n",
       "      <th>idle_time</th>\n",
       "      <th>idle_men</th>\n",
       "      <th>no_of_style_change</th>\n",
       "      <th>no_of_workers</th>\n",
       "      <th>...</th>\n",
       "      <th>team_3</th>\n",
       "      <th>team_4</th>\n",
       "      <th>team_5</th>\n",
       "      <th>team_6</th>\n",
       "      <th>team_7</th>\n",
       "      <th>team_8</th>\n",
       "      <th>team_9</th>\n",
       "      <th>team_10</th>\n",
       "      <th>team_11</th>\n",
       "      <th>team_12</th>\n",
       "    </tr>\n",
       "  </thead>\n",
       "  <tbody>\n",
       "    <tr>\n",
       "      <th>109</th>\n",
       "      <td>yes</td>\n",
       "      <td>0.0</td>\n",
       "      <td>-0.557114</td>\n",
       "      <td>-0.560656</td>\n",
       "      <td>-0.201087</td>\n",
       "      <td>0.0</td>\n",
       "      <td>0.0</td>\n",
       "      <td>0.0</td>\n",
       "      <td>0.0</td>\n",
       "      <td>-0.391753</td>\n",
       "      <td>...</td>\n",
       "      <td>1.0</td>\n",
       "      <td>0.0</td>\n",
       "      <td>0.0</td>\n",
       "      <td>0.0</td>\n",
       "      <td>0.0</td>\n",
       "      <td>0.0</td>\n",
       "      <td>0.0</td>\n",
       "      <td>0.0</td>\n",
       "      <td>0.0</td>\n",
       "      <td>0.0</td>\n",
       "    </tr>\n",
       "    <tr>\n",
       "      <th>1014</th>\n",
       "      <td>no</td>\n",
       "      <td>0.0</td>\n",
       "      <td>-0.534166</td>\n",
       "      <td>-0.560656</td>\n",
       "      <td>-0.081522</td>\n",
       "      <td>0.0</td>\n",
       "      <td>0.0</td>\n",
       "      <td>0.0</td>\n",
       "      <td>0.0</td>\n",
       "      <td>-0.536082</td>\n",
       "      <td>...</td>\n",
       "      <td>0.0</td>\n",
       "      <td>0.0</td>\n",
       "      <td>0.0</td>\n",
       "      <td>0.0</td>\n",
       "      <td>0.0</td>\n",
       "      <td>1.0</td>\n",
       "      <td>0.0</td>\n",
       "      <td>0.0</td>\n",
       "      <td>0.0</td>\n",
       "      <td>0.0</td>\n",
       "    </tr>\n",
       "    <tr>\n",
       "      <th>1174</th>\n",
       "      <td>yes</td>\n",
       "      <td>0.5</td>\n",
       "      <td>-0.620857</td>\n",
       "      <td>-0.560656</td>\n",
       "      <td>-0.255435</td>\n",
       "      <td>0.0</td>\n",
       "      <td>0.0</td>\n",
       "      <td>0.0</td>\n",
       "      <td>0.0</td>\n",
       "      <td>-0.494845</td>\n",
       "      <td>...</td>\n",
       "      <td>0.0</td>\n",
       "      <td>0.0</td>\n",
       "      <td>0.0</td>\n",
       "      <td>0.0</td>\n",
       "      <td>0.0</td>\n",
       "      <td>0.0</td>\n",
       "      <td>0.0</td>\n",
       "      <td>0.0</td>\n",
       "      <td>1.0</td>\n",
       "      <td>0.0</td>\n",
       "    </tr>\n",
       "    <tr>\n",
       "      <th>433</th>\n",
       "      <td>no</td>\n",
       "      <td>-0.5</td>\n",
       "      <td>-0.560683</td>\n",
       "      <td>-0.560656</td>\n",
       "      <td>-0.396739</td>\n",
       "      <td>0.0</td>\n",
       "      <td>0.0</td>\n",
       "      <td>0.0</td>\n",
       "      <td>0.0</td>\n",
       "      <td>-0.515464</td>\n",
       "      <td>...</td>\n",
       "      <td>0.0</td>\n",
       "      <td>0.0</td>\n",
       "      <td>0.0</td>\n",
       "      <td>0.0</td>\n",
       "      <td>0.0</td>\n",
       "      <td>0.0</td>\n",
       "      <td>0.0</td>\n",
       "      <td>0.0</td>\n",
       "      <td>0.0</td>\n",
       "      <td>1.0</td>\n",
       "    </tr>\n",
       "    <tr>\n",
       "      <th>895</th>\n",
       "      <td>no</td>\n",
       "      <td>-0.5</td>\n",
       "      <td>0.730495</td>\n",
       "      <td>0.464169</td>\n",
       "      <td>0.548913</td>\n",
       "      <td>0.8</td>\n",
       "      <td>0.0</td>\n",
       "      <td>0.0</td>\n",
       "      <td>2.0</td>\n",
       "      <td>0.474227</td>\n",
       "      <td>...</td>\n",
       "      <td>0.0</td>\n",
       "      <td>0.0</td>\n",
       "      <td>0.0</td>\n",
       "      <td>0.0</td>\n",
       "      <td>0.0</td>\n",
       "      <td>1.0</td>\n",
       "      <td>0.0</td>\n",
       "      <td>0.0</td>\n",
       "      <td>0.0</td>\n",
       "      <td>0.0</td>\n",
       "    </tr>\n",
       "  </tbody>\n",
       "</table>\n",
       "<p>5 rows × 94 columns</p>\n",
       "</div>"
      ],
      "text/plain": [
       "     Target  targeted_productivity       smv       wip  over_time  incentive  \\\n",
       "109     yes                    0.0 -0.557114 -0.560656  -0.201087        0.0   \n",
       "1014     no                    0.0 -0.534166 -0.560656  -0.081522        0.0   \n",
       "1174    yes                    0.5 -0.620857 -0.560656  -0.255435        0.0   \n",
       "433      no                   -0.5 -0.560683 -0.560656  -0.396739        0.0   \n",
       "895      no                   -0.5  0.730495  0.464169   0.548913        0.8   \n",
       "\n",
       "      idle_time  idle_men  no_of_style_change  no_of_workers  ...  team_3  \\\n",
       "109         0.0       0.0                 0.0      -0.391753  ...     1.0   \n",
       "1014        0.0       0.0                 0.0      -0.536082  ...     0.0   \n",
       "1174        0.0       0.0                 0.0      -0.494845  ...     0.0   \n",
       "433         0.0       0.0                 0.0      -0.515464  ...     0.0   \n",
       "895         0.0       0.0                 2.0       0.474227  ...     0.0   \n",
       "\n",
       "      team_4  team_5  team_6  team_7  team_8  team_9  team_10  team_11  \\\n",
       "109      0.0     0.0     0.0     0.0     0.0     0.0      0.0      0.0   \n",
       "1014     0.0     0.0     0.0     0.0     1.0     0.0      0.0      0.0   \n",
       "1174     0.0     0.0     0.0     0.0     0.0     0.0      0.0      1.0   \n",
       "433      0.0     0.0     0.0     0.0     0.0     0.0      0.0      0.0   \n",
       "895      0.0     0.0     0.0     0.0     1.0     0.0      0.0      0.0   \n",
       "\n",
       "      team_12  \n",
       "109       0.0  \n",
       "1014      0.0  \n",
       "1174      0.0  \n",
       "433       1.0  \n",
       "895       0.0  \n",
       "\n",
       "[5 rows x 94 columns]"
      ]
     },
     "execution_count": 38,
     "metadata": {},
     "output_type": "execute_result"
    }
   ],
   "source": [
    "scaler = RobustScaler()\n",
    "\n",
    "sca_raw_data_train = Test_Enc.drop(columns = 'Target').select_dtypes(exclude = ['object', 'category'])\n",
    "\n",
    "scaler = scaler.fit(sca_raw_data_train)\n",
    "\n",
    "scaled_data_train = pd.DataFrame(scaler.transform(sca_raw_data_train))\n",
    "\n",
    "scaled_data_train.columns = sca_raw_data_train.columns\n",
    "scaled_data_train.index = sca_raw_data_train.index\n",
    "\n",
    "Test_Enc = pd.concat([Test_Enc.drop(sca_raw_data_train.columns, axis = 1), scaled_data_train], axis = 1)\n",
    "\n",
    "Test_Enc.head()"
   ]
  },
  {
   "cell_type": "code",
   "execution_count": null,
   "id": "1fc978a6-801d-4e22-9feb-e6fbb7be33f1",
   "metadata": {},
   "outputs": [],
   "source": []
  },
  {
   "cell_type": "markdown",
   "id": "ff7f0148-1d8a-4622-bfed-9ea552f4dfce",
   "metadata": {},
   "source": [
    "Running Models"
   ]
  },
  {
   "cell_type": "code",
   "execution_count": 39,
   "id": "4865954f-99a3-48d8-a115-289e500f6489",
   "metadata": {},
   "outputs": [
    {
     "name": "stdout",
     "output_type": "stream",
     "text": [
      "Now working on model 1 of 5: Decision Tree\n",
      "Now working on model 2 of 5: AdaBoost\n"
     ]
    },
    {
     "name": "stderr",
     "output_type": "stream",
     "text": [
      "c:\\python39\\lib\\site-packages\\sklearn\\base.py:441: UserWarning: X does not have valid feature names, but AdaBoostClassifier was fitted with feature names\n",
      "  warnings.warn(\n",
      "c:\\python39\\lib\\site-packages\\sklearn\\base.py:441: UserWarning: X does not have valid feature names, but AdaBoostClassifier was fitted with feature names\n",
      "  warnings.warn(\n"
     ]
    },
    {
     "name": "stdout",
     "output_type": "stream",
     "text": [
      "Now working on model 3 of 5: Random Forest\n",
      "Now working on model 4 of 5: Logistic Regression\n",
      "Now working on model 5 of 5: Bagging\n",
      "Finished!\n"
     ]
    }
   ],
   "source": [
    "# set up data and labels\n",
    "X_train = TrainDS_ImpConstEncSel.drop(columns = 'Target')\n",
    "y_train = TrainDS_ImpConstEncSel.Target\n",
    "\n",
    "X_test = Test_Enc.drop(columns = 'Target')\n",
    "y_test = Test_Enc.Target\n",
    "\n",
    "pos_label = 'yes'\n",
    "\n",
    "# set up scoring metric\n",
    "scoring_metric = 'balanced_accuracy'\n",
    "\n",
    "# set up classifiers and tuning parameters\n",
    "names = ['Decision Tree', 'AdaBoost', 'Random Forest','Logistic Regression','Bagging']\n",
    "classifiers = [DecisionTreeClassifier(random_state = 345), \n",
    "               AdaBoostClassifier(random_state = 345), \n",
    "               RandomForestClassifier(random_state = 345),LogisticRegression(random_state = 345),BaggingClassifier(random_state = 345)]\n",
    "param_grids = [{'max_depth': [2, 3, 4], 'criterion': ['gini', 'entropy']}, \n",
    "               {'n_estimators': [25, 50, 100, 150, 300]}, \n",
    "               {'max_depth': [2, 3, 4], 'max_features': [None, 'sqrt', 'log2'], 'n_estimators': [50, 100, 150]},\n",
    "               {'penalty': ['none', 'l2'],'C':[100, 10, 1.0, 0.1, 0.01]},\n",
    "              {'n_estimators': [10, 100, 1000]}]\n",
    "\n",
    "# create empty lists for storing outcomes\n",
    "models = []\n",
    "preds = []\n",
    "probs = []\n",
    "BAs = []\n",
    "AUCs = []\n",
    "FPRs = []\n",
    "TPRs = []\n",
    "timings = []\n",
    "\n",
    "# train classifiers and generate test predictions/probabilities\n",
    "for i, eachClassifier in enumerate(classifiers):\n",
    "    \n",
    "    print('Now working on model ', i + 1, ' of ', len(classifiers), ': ', names[i], sep = '')\n",
    "    \n",
    "    # define cross-validation/parameter tuning settings\n",
    "    search = GridSearchCV(eachClassifier, \n",
    "                          param_grids[i], \n",
    "                          cv = 5, # using (Stratified)KFold by default (with 5 folds)\n",
    "                          scoring = scoring_metric,\n",
    "                          n_jobs = -1) # use parallel processing\n",
    "    \n",
    "    model = search.fit(X_train, y_train)\n",
    "    pred = search.predict(X_test)\n",
    "    prob = search.predict_proba(X_test)[:, 1]\n",
    "    \n",
    "    models.append(model)\n",
    "    preds.append(pred)\n",
    "    probs.append(prob)\n",
    "    \n",
    "    BAs.append(balanced_accuracy_score(y_test, pred))\n",
    "    AUCs.append(roc_auc_score(y_test, prob))\n",
    "    \n",
    "    FPR, TPR, _ = roc_curve(y_test, prob, pos_label = pos_label)\n",
    "    \n",
    "    FPRs.append(FPR)\n",
    "    TPRs.append(TPR)\n",
    "    \n",
    "    timings.append(model.refit_time_)\n",
    "    \n",
    "print('Finished!')"
   ]
  },
  {
   "cell_type": "code",
   "execution_count": 40,
   "id": "1ec7b1fc-9e29-40ce-9e53-7e3883d9bf88",
   "metadata": {},
   "outputs": [
    {
     "data": {
      "text/html": [
       "<div>\n",
       "<style scoped>\n",
       "    .dataframe tbody tr th:only-of-type {\n",
       "        vertical-align: middle;\n",
       "    }\n",
       "\n",
       "    .dataframe tbody tr th {\n",
       "        vertical-align: top;\n",
       "    }\n",
       "\n",
       "    .dataframe thead th {\n",
       "        text-align: right;\n",
       "    }\n",
       "</style>\n",
       "<table border=\"1\" class=\"dataframe\">\n",
       "  <thead>\n",
       "    <tr style=\"text-align: right;\">\n",
       "      <th></th>\n",
       "      <th>Classifier</th>\n",
       "      <th>Refit Time</th>\n",
       "      <th>Balanced Accuracy</th>\n",
       "      <th>AUC</th>\n",
       "    </tr>\n",
       "  </thead>\n",
       "  <tbody>\n",
       "    <tr>\n",
       "      <th>1</th>\n",
       "      <td>AdaBoost</td>\n",
       "      <td>0.288</td>\n",
       "      <td>0.805</td>\n",
       "      <td>0.913</td>\n",
       "    </tr>\n",
       "    <tr>\n",
       "      <th>3</th>\n",
       "      <td>Logistic Regression</td>\n",
       "      <td>0.022</td>\n",
       "      <td>0.765</td>\n",
       "      <td>0.816</td>\n",
       "    </tr>\n",
       "    <tr>\n",
       "      <th>4</th>\n",
       "      <td>Bagging</td>\n",
       "      <td>3.507</td>\n",
       "      <td>0.764</td>\n",
       "      <td>0.885</td>\n",
       "    </tr>\n",
       "    <tr>\n",
       "      <th>2</th>\n",
       "      <td>Random Forest</td>\n",
       "      <td>0.096</td>\n",
       "      <td>0.763</td>\n",
       "      <td>0.878</td>\n",
       "    </tr>\n",
       "    <tr>\n",
       "      <th>0</th>\n",
       "      <td>Decision Tree</td>\n",
       "      <td>0.004</td>\n",
       "      <td>0.762</td>\n",
       "      <td>0.857</td>\n",
       "    </tr>\n",
       "  </tbody>\n",
       "</table>\n",
       "</div>"
      ],
      "text/plain": [
       "            Classifier  Refit Time  Balanced Accuracy    AUC\n",
       "1             AdaBoost       0.288              0.805  0.913\n",
       "3  Logistic Regression       0.022              0.765  0.816\n",
       "4              Bagging       3.507              0.764  0.885\n",
       "2        Random Forest       0.096              0.763  0.878\n",
       "0        Decision Tree       0.004              0.762  0.857"
      ]
     },
     "metadata": {},
     "output_type": "display_data"
    }
   ],
   "source": [
    "results = pd.DataFrame({'Classifier': names, \n",
    "                        'Balanced Accuracy': BAs, \n",
    "                        'AUC': AUCs, \n",
    "                        'TPR': TPRs, \n",
    "                        'FPR': FPRs, \n",
    "                        'Refit Time': timings}).sort_values(['Balanced Accuracy', 'AUC'], ascending = False)\n",
    "\n",
    "display(round(results[['Classifier', 'Refit Time', 'Balanced Accuracy', 'AUC']], 3))"
   ]
  },
  {
   "cell_type": "code",
   "execution_count": 41,
   "id": "0a6662db-f11b-47d5-afbb-8688ec3d8f1e",
   "metadata": {},
   "outputs": [
    {
     "data": {
      "image/png": "[encoded data removed]",
      "text/plain": [
       "<Figure size 1080x576 with 2 Axes>"
      ]
     },
     "metadata": {},
     "output_type": "display_data"
    }
   ],
   "source": [
    "greenToRed = LinearSegmentedColormap.from_list('', ['green', 'whitesmoke', 'red'])\n",
    "cm.register_cmap('green_to_red', greenToRed)\n",
    "\n",
    "normRTs = plt.Normalize(results['Refit Time'].min(), results['Refit Time'].max())\n",
    "smRTs = plt.cm.ScalarMappable(cmap = 'green_to_red', norm = normRTs)\n",
    "\n",
    "ax = sns.barplot(y = 'Classifier', \n",
    "                 x = 'AUC', \n",
    "                 hue = 'Refit Time', \n",
    "                 dodge = False, \n",
    "                 palette = 'green_to_red', \n",
    "                 edgecolor = '.2', \n",
    "                 data = results)\n",
    "\n",
    "ax.get_legend().remove()\n",
    "ax.figure.colorbar(smRTs)\n",
    "ax.set(title = 'AUC Relative to Refit Time (s)')\n",
    "ax.set(xlim = (math.floor(results.AUC.min() * 10) * 10/100, \n",
    "               results.AUC.max() * 1.01))\n",
    "\n",
    "plt.show()"
   ]
  },
  {
   "cell_type": "code",
   "execution_count": 42,
   "id": "24954fc1-97aa-4811-b5a0-ea76b9b8aadb",
   "metadata": {
    "tags": []
   },
   "outputs": [
    {
     "name": "stderr",
     "output_type": "stream",
     "text": [
      "c:\\python39\\lib\\site-packages\\sklearn\\utils\\deprecation.py:87: FutureWarning: Function plot_roc_curve is deprecated; Function `plot_roc_curve` is deprecated in 1.0 and will be removed in 1.2. Use one of the class methods: RocCurveDisplay.from_predictions or RocCurveDisplay.from_estimator.\n",
      "  warnings.warn(msg, category=FutureWarning)\n",
      "c:\\python39\\lib\\site-packages\\sklearn\\base.py:441: UserWarning: X does not have valid feature names, but AdaBoostClassifier was fitted with feature names\n",
      "  warnings.warn(\n",
      "c:\\python39\\lib\\site-packages\\sklearn\\utils\\deprecation.py:87: FutureWarning: Function plot_roc_curve is deprecated; Function `plot_roc_curve` is deprecated in 1.0 and will be removed in 1.2. Use one of the class methods: RocCurveDisplay.from_predictions or RocCurveDisplay.from_estimator.\n",
      "  warnings.warn(msg, category=FutureWarning)\n",
      "c:\\python39\\lib\\site-packages\\sklearn\\utils\\deprecation.py:87: FutureWarning: Function plot_roc_curve is deprecated; Function `plot_roc_curve` is deprecated in 1.0 and will be removed in 1.2. Use one of the class methods: RocCurveDisplay.from_predictions or RocCurveDisplay.from_estimator.\n",
      "  warnings.warn(msg, category=FutureWarning)\n",
      "c:\\python39\\lib\\site-packages\\sklearn\\utils\\deprecation.py:87: FutureWarning: Function plot_roc_curve is deprecated; Function `plot_roc_curve` is deprecated in 1.0 and will be removed in 1.2. Use one of the class methods: RocCurveDisplay.from_predictions or RocCurveDisplay.from_estimator.\n",
      "  warnings.warn(msg, category=FutureWarning)\n",
      "c:\\python39\\lib\\site-packages\\sklearn\\utils\\deprecation.py:87: FutureWarning: Function plot_roc_curve is deprecated; Function `plot_roc_curve` is deprecated in 1.0 and will be removed in 1.2. Use one of the class methods: RocCurveDisplay.from_predictions or RocCurveDisplay.from_estimator.\n",
      "  warnings.warn(msg, category=FutureWarning)\n"
     ]
    },
    {
     "data": {
      "image/png": "[encoded data removed]",
      "text/plain": [
       "<Figure size 576x576 with 1 Axes>"
      ]
     },
     "metadata": {},
     "output_type": "display_data"
    }
   ],
   "source": [
    "# defining a custom function for reuse later\n",
    "def Custom_ROC_Plot (results, X_test, y_test, title, figwidth = 8, figheight = 8):\n",
    "\n",
    "    fig, ax = plt.subplots(figsize = (figwidth, figheight))\n",
    "\n",
    "    ax.plot(ax.get_xlim(), ax.get_ylim(), ls = '--', c = 'k')\n",
    "    ax.set(title = title)\n",
    "\n",
    "    for i in results.index:\n",
    "        plot_roc_curve(models[i], \n",
    "                       X_test, \n",
    "                       y_test, \n",
    "                       color = cm.Set1(i), \n",
    "                       label = results.loc[i, 'Classifier'] + ': {:.3f}'.format(results.loc[i, 'AUC']), \n",
    "                       ax = ax)\n",
    "        \n",
    "    return([fig, ax])\n",
    "\n",
    "fig, ax = Custom_ROC_Plot(results, X_test, y_test, title = 'Test AUC Comparison')"
   ]
  },
  {
   "cell_type": "code",
   "execution_count": 43,
   "id": "7e8d1672-363a-413a-9522-3b479ea860dc",
   "metadata": {
    "tags": []
   },
   "outputs": [],
   "source": [
    "best_index = results.index[0]"
   ]
  },
  {
   "cell_type": "code",
   "execution_count": 44,
   "id": "12fbaa81-8f4b-4e1d-b6f7-71700c236cd7",
   "metadata": {},
   "outputs": [
    {
     "data": {
      "text/plain": [
       "AdaBoostClassifier(n_estimators=150, random_state=345)"
      ]
     },
     "execution_count": 44,
     "metadata": {},
     "output_type": "execute_result"
    }
   ],
   "source": [
    "models[best_index].best_estimator_"
   ]
  },
  {
   "cell_type": "code",
   "execution_count": 45,
   "id": "427f0abc-dab9-4a8e-bf37-176596fed3c5",
   "metadata": {},
   "outputs": [
    {
     "data": {
      "text/html": [
       "<div>\n",
       "<style scoped>\n",
       "    .dataframe tbody tr th:only-of-type {\n",
       "        vertical-align: middle;\n",
       "    }\n",
       "\n",
       "    .dataframe tbody tr th {\n",
       "        vertical-align: top;\n",
       "    }\n",
       "\n",
       "    .dataframe thead th {\n",
       "        text-align: right;\n",
       "    }\n",
       "</style>\n",
       "<table border=\"1\" class=\"dataframe\">\n",
       "  <thead>\n",
       "    <tr style=\"text-align: right;\">\n",
       "      <th></th>\n",
       "      <th>mean_fit_time</th>\n",
       "      <th>std_fit_time</th>\n",
       "      <th>mean_score_time</th>\n",
       "      <th>std_score_time</th>\n",
       "      <th>param_n_estimators</th>\n",
       "      <th>params</th>\n",
       "      <th>split0_test_score</th>\n",
       "      <th>split1_test_score</th>\n",
       "      <th>split2_test_score</th>\n",
       "      <th>split3_test_score</th>\n",
       "      <th>split4_test_score</th>\n",
       "      <th>mean_test_score</th>\n",
       "      <th>std_test_score</th>\n",
       "      <th>rank_test_score</th>\n",
       "    </tr>\n",
       "  </thead>\n",
       "  <tbody>\n",
       "    <tr>\n",
       "      <th>3</th>\n",
       "      <td>0.499</td>\n",
       "      <td>0.015</td>\n",
       "      <td>0.034</td>\n",
       "      <td>0.005</td>\n",
       "      <td>150</td>\n",
       "      <td>{'n_estimators': 150}</td>\n",
       "      <td>0.753</td>\n",
       "      <td>0.779</td>\n",
       "      <td>0.812</td>\n",
       "      <td>0.801</td>\n",
       "      <td>0.823</td>\n",
       "      <td>0.794</td>\n",
       "      <td>0.025</td>\n",
       "      <td>1</td>\n",
       "    </tr>\n",
       "    <tr>\n",
       "      <th>4</th>\n",
       "      <td>0.731</td>\n",
       "      <td>0.056</td>\n",
       "      <td>0.041</td>\n",
       "      <td>0.001</td>\n",
       "      <td>300</td>\n",
       "      <td>{'n_estimators': 300}</td>\n",
       "      <td>0.769</td>\n",
       "      <td>0.757</td>\n",
       "      <td>0.812</td>\n",
       "      <td>0.807</td>\n",
       "      <td>0.823</td>\n",
       "      <td>0.794</td>\n",
       "      <td>0.026</td>\n",
       "      <td>1</td>\n",
       "    </tr>\n",
       "    <tr>\n",
       "      <th>2</th>\n",
       "      <td>0.364</td>\n",
       "      <td>0.019</td>\n",
       "      <td>0.046</td>\n",
       "      <td>0.012</td>\n",
       "      <td>100</td>\n",
       "      <td>{'n_estimators': 100}</td>\n",
       "      <td>0.736</td>\n",
       "      <td>0.801</td>\n",
       "      <td>0.790</td>\n",
       "      <td>0.785</td>\n",
       "      <td>0.845</td>\n",
       "      <td>0.792</td>\n",
       "      <td>0.035</td>\n",
       "      <td>3</td>\n",
       "    </tr>\n",
       "    <tr>\n",
       "      <th>0</th>\n",
       "      <td>0.084</td>\n",
       "      <td>0.006</td>\n",
       "      <td>0.021</td>\n",
       "      <td>0.003</td>\n",
       "      <td>25</td>\n",
       "      <td>{'n_estimators': 25}</td>\n",
       "      <td>0.742</td>\n",
       "      <td>0.768</td>\n",
       "      <td>0.724</td>\n",
       "      <td>0.834</td>\n",
       "      <td>0.790</td>\n",
       "      <td>0.772</td>\n",
       "      <td>0.039</td>\n",
       "      <td>4</td>\n",
       "    </tr>\n",
       "    <tr>\n",
       "      <th>1</th>\n",
       "      <td>0.165</td>\n",
       "      <td>0.004</td>\n",
       "      <td>0.028</td>\n",
       "      <td>0.012</td>\n",
       "      <td>50</td>\n",
       "      <td>{'n_estimators': 50}</td>\n",
       "      <td>0.736</td>\n",
       "      <td>0.757</td>\n",
       "      <td>0.757</td>\n",
       "      <td>0.768</td>\n",
       "      <td>0.823</td>\n",
       "      <td>0.768</td>\n",
       "      <td>0.029</td>\n",
       "      <td>5</td>\n",
       "    </tr>\n",
       "  </tbody>\n",
       "</table>\n",
       "</div>"
      ],
      "text/plain": [
       "   mean_fit_time  std_fit_time  mean_score_time  std_score_time  \\\n",
       "3          0.499         0.015            0.034           0.005   \n",
       "4          0.731         0.056            0.041           0.001   \n",
       "2          0.364         0.019            0.046           0.012   \n",
       "0          0.084         0.006            0.021           0.003   \n",
       "1          0.165         0.004            0.028           0.012   \n",
       "\n",
       "  param_n_estimators                 params  split0_test_score  \\\n",
       "3                150  {'n_estimators': 150}              0.753   \n",
       "4                300  {'n_estimators': 300}              0.769   \n",
       "2                100  {'n_estimators': 100}              0.736   \n",
       "0                 25   {'n_estimators': 25}              0.742   \n",
       "1                 50   {'n_estimators': 50}              0.736   \n",
       "\n",
       "   split1_test_score  split2_test_score  split3_test_score  split4_test_score  \\\n",
       "3              0.779              0.812              0.801              0.823   \n",
       "4              0.757              0.812              0.807              0.823   \n",
       "2              0.801              0.790              0.785              0.845   \n",
       "0              0.768              0.724              0.834              0.790   \n",
       "1              0.757              0.757              0.768              0.823   \n",
       "\n",
       "   mean_test_score  std_test_score  rank_test_score  \n",
       "3            0.794           0.025                1  \n",
       "4            0.794           0.026                1  \n",
       "2            0.792           0.035                3  \n",
       "0            0.772           0.039                4  \n",
       "1            0.768           0.029                5  "
      ]
     },
     "execution_count": 45,
     "metadata": {},
     "output_type": "execute_result"
    }
   ],
   "source": [
    "tuning_results = pd.DataFrame(models[best_index].cv_results_).sort_values('rank_test_score')\n",
    "\n",
    "round(tuning_results, 3).head(5)"
   ]
  },
  {
   "cell_type": "code",
   "execution_count": 46,
   "id": "0fc52556-d4ae-480b-a5d6-f252ada1216d",
   "metadata": {},
   "outputs": [
    {
     "data": {
      "text/plain": [
       "5"
      ]
     },
     "execution_count": 46,
     "metadata": {},
     "output_type": "execute_result"
    }
   ],
   "source": [
    "len(tuning_results)"
   ]
  },
  {
   "cell_type": "code",
   "execution_count": 47,
   "id": "97181d5e-d296-4132-b124-464eb876170c",
   "metadata": {},
   "outputs": [
    {
     "name": "stderr",
     "output_type": "stream",
     "text": [
      "c:\\python39\\lib\\site-packages\\sklearn\\utils\\deprecation.py:87: FutureWarning: Function plot_confusion_matrix is deprecated; Function `plot_confusion_matrix` is deprecated in 1.0 and will be removed in 1.2. Use one of the class methods: ConfusionMatrixDisplay.from_predictions or ConfusionMatrixDisplay.from_estimator.\n",
      "  warnings.warn(msg, category=FutureWarning)\n",
      "c:\\python39\\lib\\site-packages\\sklearn\\base.py:441: UserWarning: X does not have valid feature names, but AdaBoostClassifier was fitted with feature names\n",
      "  warnings.warn(\n"
     ]
    },
    {
     "data": {
      "text/plain": [
       "<sklearn.metrics._plot.confusion_matrix.ConfusionMatrixDisplay at 0x1fad3cc7880>"
      ]
     },
     "execution_count": 47,
     "metadata": {},
     "output_type": "execute_result"
    },
    {
     "data": {
      "image/png": "[encoded data removed]",
      "text/plain": [
       "<Figure size 1080x576 with 2 Axes>"
      ]
     },
     "metadata": {},
     "output_type": "display_data"
    }
   ],
   "source": [
    "# note: for a simple printed matrix, you can use:\n",
    "# confusion_matrix(y_test, preds[best_index])\n",
    "\n",
    "plot_confusion_matrix(models[best_index], \n",
    "                      X_test, \n",
    "                      y_test,\n",
    "                      cmap = plt.cm.Blues,\n",
    "                      values_format = 'd')"
   ]
  },
  {
   "cell_type": "code",
   "execution_count": 48,
   "id": "5bdcd6e3-ab04-4beb-b159-b41467ed1541",
   "metadata": {},
   "outputs": [
    {
     "data": {
      "text/html": [
       "<div>\n",
       "<style scoped>\n",
       "    .dataframe tbody tr th:only-of-type {\n",
       "        vertical-align: middle;\n",
       "    }\n",
       "\n",
       "    .dataframe tbody tr th {\n",
       "        vertical-align: top;\n",
       "    }\n",
       "\n",
       "    .dataframe thead th {\n",
       "        text-align: right;\n",
       "    }\n",
       "</style>\n",
       "<table border=\"1\" class=\"dataframe\">\n",
       "  <thead>\n",
       "    <tr style=\"text-align: right;\">\n",
       "      <th></th>\n",
       "      <th>Sensitivity</th>\n",
       "      <th>Specificity</th>\n",
       "      <th>Positive Predictive Value</th>\n",
       "      <th>Negative Predictive Value</th>\n",
       "      <th>F1 Score</th>\n",
       "      <th>Accuracy</th>\n",
       "      <th>Balanced Accuracy</th>\n",
       "    </tr>\n",
       "  </thead>\n",
       "  <tbody>\n",
       "    <tr>\n",
       "      <th>0</th>\n",
       "      <td>0.775</td>\n",
       "      <td>0.833</td>\n",
       "      <td>0.823</td>\n",
       "      <td>0.787</td>\n",
       "      <td>0.798</td>\n",
       "      <td>0.804</td>\n",
       "      <td>0.804</td>\n",
       "    </tr>\n",
       "  </tbody>\n",
       "</table>\n",
       "</div>"
      ],
      "text/plain": [
       "   Sensitivity  Specificity  Positive Predictive Value  \\\n",
       "0        0.775        0.833                      0.823   \n",
       "\n",
       "   Negative Predictive Value  F1 Score  Accuracy  Balanced Accuracy  \n",
       "0                      0.787     0.798     0.804              0.804  "
      ]
     },
     "execution_count": 48,
     "metadata": {},
     "output_type": "execute_result"
    }
   ],
   "source": [
    "TP = 93 # True Positive\n",
    "TN = 100 # True Negative\n",
    "FP = 20  # False Positive\n",
    "FN = 27  # False Negative\n",
    "\n",
    "test_metrics = pd.DataFrame({\n",
    "    'Sensitivity': [TP/(TP+FN)], \n",
    "    'Specificity': [TN/(TN+FP)], \n",
    "    'Positive Predictive Value': [TP/(TP+FP)], \n",
    "    'Negative Predictive Value': [TN/(TN+FN)], \n",
    "    'F1 Score': [TP/(TP+.5*(FP+FN))], \n",
    "    'Accuracy': [(TP+TN)/(TP+TN+FP+FN)]})\n",
    "\n",
    "test_metrics['Balanced Accuracy'] = np.mean([test_metrics.Sensitivity, test_metrics.Specificity])\n",
    "\n",
    "round(test_metrics, 3)"
   ]
  },
  {
   "cell_type": "code",
   "execution_count": 49,
   "id": "66894503-d7c0-42fa-a25e-b565866cc200",
   "metadata": {
    "tags": []
   },
   "outputs": [
    {
     "data": {
      "text/plain": [
       "Classifier           AdaBoost\n",
       "Balanced Accuracy    0.805205\n",
       "Name: 1, dtype: object"
      ]
     },
     "execution_count": 49,
     "metadata": {},
     "output_type": "execute_result"
    }
   ],
   "source": [
    "results.loc[best_index, ['Classifier', 'Balanced Accuracy']]"
   ]
  },
  {
   "cell_type": "code",
   "execution_count": 50,
   "id": "36f8f251-e6c4-4d1c-b838-1fbe00c7dbd2",
   "metadata": {},
   "outputs": [
    {
     "data": {
      "text/plain": [
       "<AxesSubplot:xlabel='importance', ylabel='feature'>"
      ]
     },
     "execution_count": 50,
     "metadata": {},
     "output_type": "execute_result"
    },
    {
     "data": {
      "image/png": "[encoded data removed]",
      "text/plain": [
       "<Figure size 1080x576 with 1 Axes>"
      ]
     },
     "metadata": {},
     "output_type": "display_data"
    }
   ],
   "source": [
    "# for models with feature importances\n",
    "if hasattr(models[best_index].best_estimator_, 'feature_importances_'):\n",
    "    var_imp = pd.DataFrame({\n",
    "        'feature': X_test.columns, \n",
    "        'importance': models[best_index].best_estimator_.feature_importances_}).sort_values('importance', ascending = False)\n",
    "# for models with coefficients (directional) -- note: for interpretation and potential caveats, see https://scikit-learn.org/stable/auto_examples/inspection/plot_linear_model_coefficient_interpretation.html\n",
    "elif hasattr(models[best_index].best_estimator_, 'coef_'):\n",
    "    var_imp = pd.DataFrame({\n",
    "        'feature': X_test.columns, \n",
    "        'importance_abs': abs(models[best_index].best_estimator_.coef_[0]), \n",
    "        'importance': models[best_index].best_estimator_.coef_[0]}).sort_values('importance_abs', ascending = False)\n",
    "    \n",
    "sns.barplot(y = 'feature', \n",
    "            x = 'importance', \n",
    "            data = var_imp.head(10))"
   ]
  },
  {
   "cell_type": "code",
   "execution_count": 51,
   "id": "fde1e76a-339f-4639-8c5a-63cae2f7bd56",
   "metadata": {},
   "outputs": [
    {
     "data": {
      "text/plain": [
       "1"
      ]
     },
     "execution_count": 51,
     "metadata": {},
     "output_type": "execute_result"
    }
   ],
   "source": [
    "best_index"
   ]
  },
  {
   "cell_type": "code",
   "execution_count": 52,
   "id": "88bfd756-9335-462f-a02a-2700981f97a5",
   "metadata": {},
   "outputs": [],
   "source": [
    "modelOut = pd.DataFrame({\n",
    "    'Prob': probs[best_index],\n",
    "    'ModelPreds': preds[best_index],\n",
    "    'Actuals': y_test\n",
    "})"
   ]
  },
  {
   "cell_type": "code",
   "execution_count": 53,
   "id": "ef5a54b7-c72c-44e3-a796-98030e21f6c2",
   "metadata": {},
   "outputs": [
    {
     "data": {
      "text/html": [
       "<div>\n",
       "<style scoped>\n",
       "    .dataframe tbody tr th:only-of-type {\n",
       "        vertical-align: middle;\n",
       "    }\n",
       "\n",
       "    .dataframe tbody tr th {\n",
       "        vertical-align: top;\n",
       "    }\n",
       "\n",
       "    .dataframe thead th {\n",
       "        text-align: right;\n",
       "    }\n",
       "</style>\n",
       "<table border=\"1\" class=\"dataframe\">\n",
       "  <thead>\n",
       "    <tr style=\"text-align: right;\">\n",
       "      <th></th>\n",
       "      <th>Prob</th>\n",
       "      <th>ModelPreds</th>\n",
       "      <th>Actuals</th>\n",
       "    </tr>\n",
       "  </thead>\n",
       "  <tbody>\n",
       "    <tr>\n",
       "      <th>991</th>\n",
       "      <td>0.490099</td>\n",
       "      <td>no</td>\n",
       "      <td>no</td>\n",
       "    </tr>\n",
       "    <tr>\n",
       "      <th>17</th>\n",
       "      <td>0.490011</td>\n",
       "      <td>no</td>\n",
       "      <td>no</td>\n",
       "    </tr>\n",
       "    <tr>\n",
       "      <th>895</th>\n",
       "      <td>0.489808</td>\n",
       "      <td>no</td>\n",
       "      <td>no</td>\n",
       "    </tr>\n",
       "    <tr>\n",
       "      <th>748</th>\n",
       "      <td>0.489763</td>\n",
       "      <td>no</td>\n",
       "      <td>no</td>\n",
       "    </tr>\n",
       "    <tr>\n",
       "      <th>993</th>\n",
       "      <td>0.489670</td>\n",
       "      <td>no</td>\n",
       "      <td>no</td>\n",
       "    </tr>\n",
       "    <tr>\n",
       "      <th>821</th>\n",
       "      <td>0.489283</td>\n",
       "      <td>no</td>\n",
       "      <td>no</td>\n",
       "    </tr>\n",
       "    <tr>\n",
       "      <th>389</th>\n",
       "      <td>0.489090</td>\n",
       "      <td>no</td>\n",
       "      <td>no</td>\n",
       "    </tr>\n",
       "    <tr>\n",
       "      <th>1097</th>\n",
       "      <td>0.489058</td>\n",
       "      <td>no</td>\n",
       "      <td>no</td>\n",
       "    </tr>\n",
       "    <tr>\n",
       "      <th>1142</th>\n",
       "      <td>0.489058</td>\n",
       "      <td>no</td>\n",
       "      <td>no</td>\n",
       "    </tr>\n",
       "    <tr>\n",
       "      <th>810</th>\n",
       "      <td>0.488937</td>\n",
       "      <td>no</td>\n",
       "      <td>no</td>\n",
       "    </tr>\n",
       "    <tr>\n",
       "      <th>1034</th>\n",
       "      <td>0.488462</td>\n",
       "      <td>no</td>\n",
       "      <td>no</td>\n",
       "    </tr>\n",
       "    <tr>\n",
       "      <th>36</th>\n",
       "      <td>0.488314</td>\n",
       "      <td>no</td>\n",
       "      <td>no</td>\n",
       "    </tr>\n",
       "    <tr>\n",
       "      <th>1105</th>\n",
       "      <td>0.487997</td>\n",
       "      <td>no</td>\n",
       "      <td>no</td>\n",
       "    </tr>\n",
       "    <tr>\n",
       "      <th>387</th>\n",
       "      <td>0.487627</td>\n",
       "      <td>no</td>\n",
       "      <td>no</td>\n",
       "    </tr>\n",
       "    <tr>\n",
       "      <th>974</th>\n",
       "      <td>0.487370</td>\n",
       "      <td>no</td>\n",
       "      <td>no</td>\n",
       "    </tr>\n",
       "    <tr>\n",
       "      <th>407</th>\n",
       "      <td>0.478352</td>\n",
       "      <td>no</td>\n",
       "      <td>no</td>\n",
       "    </tr>\n",
       "    <tr>\n",
       "      <th>59</th>\n",
       "      <td>0.474537</td>\n",
       "      <td>no</td>\n",
       "      <td>no</td>\n",
       "    </tr>\n",
       "    <tr>\n",
       "      <th>882</th>\n",
       "      <td>0.433744</td>\n",
       "      <td>no</td>\n",
       "      <td>no</td>\n",
       "    </tr>\n",
       "    <tr>\n",
       "      <th>1001</th>\n",
       "      <td>0.433538</td>\n",
       "      <td>no</td>\n",
       "      <td>no</td>\n",
       "    </tr>\n",
       "    <tr>\n",
       "      <th>843</th>\n",
       "      <td>0.429744</td>\n",
       "      <td>no</td>\n",
       "      <td>no</td>\n",
       "    </tr>\n",
       "  </tbody>\n",
       "</table>\n",
       "</div>"
      ],
      "text/plain": [
       "          Prob ModelPreds Actuals\n",
       "991   0.490099         no      no\n",
       "17    0.490011         no      no\n",
       "895   0.489808         no      no\n",
       "748   0.489763         no      no\n",
       "993   0.489670         no      no\n",
       "821   0.489283         no      no\n",
       "389   0.489090         no      no\n",
       "1097  0.489058         no      no\n",
       "1142  0.489058         no      no\n",
       "810   0.488937         no      no\n",
       "1034  0.488462         no      no\n",
       "36    0.488314         no      no\n",
       "1105  0.487997         no      no\n",
       "387   0.487627         no      no\n",
       "974   0.487370         no      no\n",
       "407   0.478352         no      no\n",
       "59    0.474537         no      no\n",
       "882   0.433744         no      no\n",
       "1001  0.433538         no      no\n",
       "843   0.429744         no      no"
      ]
     },
     "execution_count": 53,
     "metadata": {},
     "output_type": "execute_result"
    }
   ],
   "source": [
    "yesPreds = modelOut.sort_values('Prob').query('ModelPreds == \"no\"')\n",
    "\n",
    "yesPreds.sort_values('Prob', ascending = False).tail(20)\n",
    "\n"
   ]
  },
  {
   "cell_type": "markdown",
   "id": "a373efaa-42fd-4459-b83f-7251bfb3cbe0",
   "metadata": {},
   "source": [
    "#Definite No"
   ]
  },
  {
   "cell_type": "code",
   "execution_count": 54,
   "id": "eac7894a-f96f-469f-9b6f-3819461d2ac7",
   "metadata": {},
   "outputs": [
    {
     "data": {
      "text/html": [
       "<div>\n",
       "<style scoped>\n",
       "    .dataframe tbody tr th:only-of-type {\n",
       "        vertical-align: middle;\n",
       "    }\n",
       "\n",
       "    .dataframe tbody tr th {\n",
       "        vertical-align: top;\n",
       "    }\n",
       "\n",
       "    .dataframe thead th {\n",
       "        text-align: right;\n",
       "    }\n",
       "</style>\n",
       "<table border=\"1\" class=\"dataframe\">\n",
       "  <thead>\n",
       "    <tr style=\"text-align: right;\">\n",
       "      <th></th>\n",
       "      <th>Prob</th>\n",
       "      <th>ModelPreds</th>\n",
       "      <th>Actuals</th>\n",
       "    </tr>\n",
       "  </thead>\n",
       "  <tbody>\n",
       "    <tr>\n",
       "      <th>733</th>\n",
       "      <td>0.499904</td>\n",
       "      <td>no</td>\n",
       "      <td>yes</td>\n",
       "    </tr>\n",
       "    <tr>\n",
       "      <th>394</th>\n",
       "      <td>0.499880</td>\n",
       "      <td>no</td>\n",
       "      <td>yes</td>\n",
       "    </tr>\n",
       "    <tr>\n",
       "      <th>1072</th>\n",
       "      <td>0.499852</td>\n",
       "      <td>no</td>\n",
       "      <td>yes</td>\n",
       "    </tr>\n",
       "    <tr>\n",
       "      <th>920</th>\n",
       "      <td>0.499827</td>\n",
       "      <td>no</td>\n",
       "      <td>no</td>\n",
       "    </tr>\n",
       "    <tr>\n",
       "      <th>769</th>\n",
       "      <td>0.499779</td>\n",
       "      <td>no</td>\n",
       "      <td>yes</td>\n",
       "    </tr>\n",
       "    <tr>\n",
       "      <th>479</th>\n",
       "      <td>0.499615</td>\n",
       "      <td>no</td>\n",
       "      <td>yes</td>\n",
       "    </tr>\n",
       "    <tr>\n",
       "      <th>503</th>\n",
       "      <td>0.499608</td>\n",
       "      <td>no</td>\n",
       "      <td>yes</td>\n",
       "    </tr>\n",
       "    <tr>\n",
       "      <th>328</th>\n",
       "      <td>0.499385</td>\n",
       "      <td>no</td>\n",
       "      <td>no</td>\n",
       "    </tr>\n",
       "    <tr>\n",
       "      <th>808</th>\n",
       "      <td>0.499205</td>\n",
       "      <td>no</td>\n",
       "      <td>no</td>\n",
       "    </tr>\n",
       "    <tr>\n",
       "      <th>1177</th>\n",
       "      <td>0.499190</td>\n",
       "      <td>no</td>\n",
       "      <td>yes</td>\n",
       "    </tr>\n",
       "    <tr>\n",
       "      <th>572</th>\n",
       "      <td>0.499105</td>\n",
       "      <td>no</td>\n",
       "      <td>no</td>\n",
       "    </tr>\n",
       "    <tr>\n",
       "      <th>186</th>\n",
       "      <td>0.499080</td>\n",
       "      <td>no</td>\n",
       "      <td>no</td>\n",
       "    </tr>\n",
       "    <tr>\n",
       "      <th>252</th>\n",
       "      <td>0.499080</td>\n",
       "      <td>no</td>\n",
       "      <td>no</td>\n",
       "    </tr>\n",
       "    <tr>\n",
       "      <th>238</th>\n",
       "      <td>0.499055</td>\n",
       "      <td>no</td>\n",
       "      <td>yes</td>\n",
       "    </tr>\n",
       "    <tr>\n",
       "      <th>413</th>\n",
       "      <td>0.498837</td>\n",
       "      <td>no</td>\n",
       "      <td>no</td>\n",
       "    </tr>\n",
       "    <tr>\n",
       "      <th>190</th>\n",
       "      <td>0.498757</td>\n",
       "      <td>no</td>\n",
       "      <td>no</td>\n",
       "    </tr>\n",
       "    <tr>\n",
       "      <th>57</th>\n",
       "      <td>0.498644</td>\n",
       "      <td>no</td>\n",
       "      <td>no</td>\n",
       "    </tr>\n",
       "    <tr>\n",
       "      <th>313</th>\n",
       "      <td>0.498631</td>\n",
       "      <td>no</td>\n",
       "      <td>no</td>\n",
       "    </tr>\n",
       "    <tr>\n",
       "      <th>291</th>\n",
       "      <td>0.498631</td>\n",
       "      <td>no</td>\n",
       "      <td>no</td>\n",
       "    </tr>\n",
       "    <tr>\n",
       "      <th>1127</th>\n",
       "      <td>0.498629</td>\n",
       "      <td>no</td>\n",
       "      <td>no</td>\n",
       "    </tr>\n",
       "  </tbody>\n",
       "</table>\n",
       "</div>"
      ],
      "text/plain": [
       "          Prob ModelPreds Actuals\n",
       "733   0.499904         no     yes\n",
       "394   0.499880         no     yes\n",
       "1072  0.499852         no     yes\n",
       "920   0.499827         no      no\n",
       "769   0.499779         no     yes\n",
       "479   0.499615         no     yes\n",
       "503   0.499608         no     yes\n",
       "328   0.499385         no      no\n",
       "808   0.499205         no      no\n",
       "1177  0.499190         no     yes\n",
       "572   0.499105         no      no\n",
       "186   0.499080         no      no\n",
       "252   0.499080         no      no\n",
       "238   0.499055         no     yes\n",
       "413   0.498837         no      no\n",
       "190   0.498757         no      no\n",
       "57    0.498644         no      no\n",
       "313   0.498631         no      no\n",
       "291   0.498631         no      no\n",
       "1127  0.498629         no      no"
      ]
     },
     "execution_count": 54,
     "metadata": {},
     "output_type": "execute_result"
    }
   ],
   "source": [
    "yesPreds.sort_values('Prob', ascending = False).head(20)"
   ]
  },
  {
   "cell_type": "markdown",
   "id": "5c874aa0-b84b-4aef-860b-351947c2df6a",
   "metadata": {},
   "source": [
    "These are the ones where the model isn't so great. Require manual inspection"
   ]
  },
  {
   "cell_type": "code",
   "execution_count": null,
   "id": "38c21c94-c8d1-4cdf-952b-9aa42351d88f",
   "metadata": {},
   "outputs": [],
   "source": []
  },
  {
   "cell_type": "code",
   "execution_count": null,
   "id": "2e14bec4-54ae-4d3f-906a-b5dea12436ad",
   "metadata": {},
   "outputs": [],
   "source": []
  },
  {
   "cell_type": "code",
   "execution_count": null,
   "id": "0a9ec779-b7a3-4e7f-ac49-dcaaf5c328aa",
   "metadata": {},
   "outputs": [],
   "source": []
  }
 ],
 "metadata": {
  "kernelspec": {
   "display_name": "Python 3 (ipykernel)",
   "language": "python",
   "name": "python3"
  },
  "language_info": {
   "codemirror_mode": {
    "name": "ipython",
    "version": 3
   },
   "file_extension": ".py",
   "mimetype": "text/x-python",
   "name": "python",
   "nbconvert_exporter": "python",
   "pygments_lexer": "ipython3",
   "version": "3.9.6"
  }
 },
 "nbformat": 4,
 "nbformat_minor": 5
}
